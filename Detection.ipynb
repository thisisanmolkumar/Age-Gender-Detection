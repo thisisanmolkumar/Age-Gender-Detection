{
  "nbformat": 4,
  "nbformat_minor": 0,
  "metadata": {
    "colab": {
      "name": "Detection",
      "provenance": [],
      "collapsed_sections": [
        "Uv2zZ1BZ5wV3",
        "R6pVfT7qbRpi"
      ]
    },
    "kernelspec": {
      "name": "python3",
      "display_name": "Python 3"
    },
    "language_info": {
      "name": "python"
    },
    "accelerator": "GPU"
  },
  "cells": [
    {
      "cell_type": "markdown",
      "metadata": {
        "id": "Q2Yr5A5b4SKx"
      },
      "source": [
        "# Gender and Age Detection"
      ]
    },
    {
      "cell_type": "code",
      "metadata": {
        "colab": {
          "base_uri": "https://localhost:8080/"
        },
        "id": "3FVP-nY4aLOY",
        "outputId": "594a8306-c612-4bf5-f86b-31b262ad37f4"
      },
      "source": [
        "%cd /content/drive/MyDrive/Colab/GenderAgeDetection\n",
        "!ls"
      ],
      "execution_count": 2,
      "outputs": [
        {
          "output_type": "stream",
          "text": [
            "/content/drive/MyDrive/Colab/GenderAgeDetection\n",
            "age.npy       Detection.ipynb  images.npy   utkface_aligned_cropped\n",
            "crop_part1    gender.npy       kaggle.json\n",
            "Detection.h5  imagesBGR.npy    UTKFace\n"
          ],
          "name": "stdout"
        }
      ]
    },
    {
      "cell_type": "markdown",
      "metadata": {
        "id": "iIdw_8-v5tze"
      },
      "source": [
        "## Importing libraries"
      ]
    },
    {
      "cell_type": "code",
      "metadata": {
        "id": "JLAXNcuZ5qWA"
      },
      "source": [
        "import os\n",
        "import cv2\n",
        "import numpy as np\n",
        "import IPython\n",
        "from time import time\n",
        "from google.colab.patches import cv2_imshow\n",
        "from random import randint\n",
        "import matplotlib.pyplot as plt\n",
        "from sklearn.model_selection import train_test_split\n",
        "from keras.models import Model, load_model\n",
        "from keras.layers import Input, Conv2D, MaxPooling2D, Dropout, Flatten, Dense\n",
        "from keras.callbacks import ModelCheckpoint, EarlyStopping"
      ],
      "execution_count": 3,
      "outputs": []
    },
    {
      "cell_type": "markdown",
      "metadata": {
        "id": "Uv2zZ1BZ5wV3"
      },
      "source": [
        "## Downloading Data from Kaggle"
      ]
    },
    {
      "cell_type": "code",
      "metadata": {
        "colab": {
          "base_uri": "https://localhost:8080/"
        },
        "id": "7Lo8xoCEasoc",
        "outputId": "a402ab0e-919c-443f-d107-446f5a64981a"
      },
      "source": [
        "os.environ['KAGGLE_CONFIG_DIR'] = \"/content/drive/MyDrive/Colab/GenderAgeDetection\"\n",
        "\n",
        "# Downloading UTKFace Data using kaggle API\n",
        "!kaggle datasets download -d jangedoo/utkface-new\n",
        "!ls\n",
        "!unzip \\*.zip && rm *.zip\n",
        "\n",
        "# !rm -rf crop_part1 utkface_aligned_cropped"
      ],
      "execution_count": null,
      "outputs": [
        {
          "output_type": "stream",
          "text": [
            "Downloading utkface-new.zip to /content/drive/My Drive/Colab/GenderAgeDetection\n",
            " 99% 329M/331M [00:05<00:00, 39.3MB/s]\n",
            "100% 331M/331M [00:05<00:00, 62.0MB/s]\n",
            "Detection.ipynb  kaggle.json  utkface-new.zip\n"
          ],
          "name": "stdout"
        }
      ]
    },
    {
      "cell_type": "code",
      "metadata": {
        "id": "KWgJYunBa52w"
      },
      "source": [
        "!unzip \\*.zip && rm *.zip\n",
        "\n",
        "from IPython.display import clear_output\n",
        "clear_output()"
      ],
      "execution_count": null,
      "outputs": []
    },
    {
      "cell_type": "markdown",
      "metadata": {
        "id": "jgqGViHMAzY8"
      },
      "source": [
        "## Data Exploration and Preparation"
      ]
    },
    {
      "cell_type": "markdown",
      "metadata": {
        "id": "vWvdBOlR44yp"
      },
      "source": [
        "The labels of each face image is embedded in the file name, formated like age_gender_race_date&time.jpg\n",
        "\n",
        "* Age is an integer from 0 to 116\n",
        "* Gender is either 0 (male) or 1 (female)\n",
        "* Race is an integer from 0 to 4, denoting White, Black, Asian, Indian, and Others (like Hispanic, Latino, Middle Eastern)\n",
        "* Date & Time is in the format of yyyymmddHHMMSSFFF"
      ]
    },
    {
      "cell_type": "code",
      "metadata": {
        "id": "cu8Tn2BY2QwW"
      },
      "source": [
        "# Taking UTKFace folder as the main data\n",
        "dataFiles = os.listdir(\"UTKFace\")"
      ],
      "execution_count": 5,
      "outputs": []
    },
    {
      "cell_type": "markdown",
      "metadata": {
        "id": "R6pVfT7qbRpi"
      },
      "source": [
        "### Getting Age and gender from the label and loading images resized into shape (48, 48, 3) "
      ]
    },
    {
      "cell_type": "code",
      "metadata": {
        "colab": {
          "base_uri": "https://localhost:8080/",
          "height": 34
        },
        "id": "d8wn-oJC5eq9",
        "outputId": "d5926b74-9b70-48c9-948a-4cb16eb08c92"
      },
      "source": [
        "age = np.zeros(len(dataFiles))\n",
        "gender = np.zeros(len(dataFiles))\n",
        "images = np.zeros((len(dataFiles), 48, 48, 3))\n",
        "\n",
        "out = display(IPython.display.Pretty('Starting..'), display_id=True)\n",
        "\n",
        "for i, files in enumerate(dataFiles):\n",
        "    t = time()\n",
        "    age[i] = int(files.split('_')[0])\n",
        "    gender[i] = int(files.split('_')[1])\n",
        "    dir = \"/content/drive/MyDrive/Colab/GenderAgeDetection/UTKFace/\" + files\n",
        "    images[i] = cv2.resize(cv2.cvtColor(cv2.imread(dir), cv2.COLOR_BGR2RGB), (48, 48))\n",
        "    # images[i] = cv2.resize(cv2.imread(dir), (48, 48))\n",
        "    out.update(IPython.display.Pretty(\"%.2f\"%(i * 100 / len(dataFiles)) + f\"% Time left: {int((((len(dataFiles) - i) * (time() - t)) // 60))} minutes\"))\n",
        "\n",
        "with open('age.npy', 'wb') as f:\n",
        "    np.save(f, age)\n",
        "\n",
        "with open('gender.npy', 'wb') as f:\n",
        "    np.save(f, gender)\n",
        "\n",
        "with open('imagesBGR.npy', 'wb') as f:\n",
        "    np.save(f, images)"
      ],
      "execution_count": null,
      "outputs": [
        {
          "output_type": "display_data",
          "data": {
            "text/plain": [
              "100.00% Time left: 0 minutes"
            ]
          },
          "metadata": {
            "tags": []
          }
        }
      ]
    },
    {
      "cell_type": "markdown",
      "metadata": {
        "id": "KZyJ55eZbgvo"
      },
      "source": [
        "### Loading numpy arrays and visualization"
      ]
    },
    {
      "cell_type": "code",
      "metadata": {
        "id": "Sl0730COa2aD"
      },
      "source": [
        "with open('age.npy', 'rb') as f:\n",
        "    age = np.load(f, allow_pickle=True)\n",
        "\n",
        "with open('gender.npy', 'rb') as f:\n",
        "    gender = np.load(f, allow_pickle=True)\n",
        "\n",
        "with open('images.npy', 'rb') as f:\n",
        "    images = np.load(f, allow_pickle=True)"
      ],
      "execution_count": 6,
      "outputs": []
    },
    {
      "cell_type": "code",
      "metadata": {
        "id": "5e-sbrJk71v0"
      },
      "source": [
        "def showImage(n):\n",
        "    g = \"Male\" if gender[n] == 0 else \"Female\"\n",
        "    print(f\"Age: {age[n]} Gender: {g}\")\n",
        "    cv2_imshow(images[n])"
      ],
      "execution_count": 7,
      "outputs": []
    },
    {
      "cell_type": "code",
      "metadata": {
        "colab": {
          "base_uri": "https://localhost:8080/",
          "height": 98
        },
        "id": "RUIY3TVM_Pt9",
        "outputId": "7556f65e-9b36-4fc2-e5b3-d8f3b945a0fc"
      },
      "source": [
        "print(len(dataFiles))\n",
        "showImage(randint(0, len(dataFiles)))"
      ],
      "execution_count": 8,
      "outputs": [
        {
          "output_type": "stream",
          "text": [
            "23708\n",
            "Age: 46.0 Gender: Female\n"
          ],
          "name": "stdout"
        },
        {
          "output_type": "display_data",
          "data": {
            "image/png": "[encoded data removed]",
            "text/plain": [
              "<PIL.Image.Image image mode=RGB size=48x48 at 0x7F6EA595E110>"
            ]
          },
          "metadata": {
            "tags": []
          }
        }
      ]
    },
    {
      "cell_type": "code",
      "metadata": {
        "id": "uH8y9g0HA6Zg",
        "colab": {
          "base_uri": "https://localhost:8080/"
        },
        "outputId": "655e5474-3429-4676-968d-a714a25ae068"
      },
      "source": [
        "print(np.unique(age, return_counts=True))\n",
        "print(np.unique(gender, return_counts=True))"
      ],
      "execution_count": 9,
      "outputs": [
        {
          "output_type": "stream",
          "text": [
            "(array([  1.,   2.,   3.,   4.,   5.,   6.,   7.,   8.,   9.,  10.,  11.,\n",
            "        12.,  13.,  14.,  15.,  16.,  17.,  18.,  19.,  20.,  21.,  22.,\n",
            "        23.,  24.,  25.,  26.,  27.,  28.,  29.,  30.,  31.,  32.,  33.,\n",
            "        34.,  35.,  36.,  37.,  38.,  39.,  40.,  41.,  42.,  43.,  44.,\n",
            "        45.,  46.,  47.,  48.,  49.,  50.,  51.,  52.,  53.,  54.,  55.,\n",
            "        56.,  57.,  58.,  59.,  60.,  61.,  62.,  63.,  64.,  65.,  66.,\n",
            "        67.,  68.,  69.,  70.,  71.,  72.,  73.,  74.,  75.,  76.,  77.,\n",
            "        78.,  79.,  80.,  81.,  82.,  83.,  84.,  85.,  86.,  87.,  88.,\n",
            "        89.,  90.,  91.,  92.,  93.,  95.,  96.,  99., 100., 101., 103.,\n",
            "       105., 110., 111., 115., 116.]), array([1123,  482,  289,  273,  196,  131,  139,  263,  166,  156,   65,\n",
            "        130,   81,  157,  177,  247,  158,  262,   98,  284,  346,  395,\n",
            "        426,  859,  734, 2197,  615,  918,  570,  724,  350,  664,  143,\n",
            "        409,  880,  483,  293,  325,  266,  526,  132,  266,  157,  100,\n",
            "        440,  153,  170,  153,  148,  381,  138,  232,  241,  353,  268,\n",
            "        236,   97,  271,   82,  293,  161,  125,  103,   50,  259,   77,\n",
            "         94,  100,   56,  147,   33,   98,   63,   32,  148,   58,   28,\n",
            "         69,   23,  133,   22,   40,   18,   24,  155,   35,   10,   34,\n",
            "         33,   82,    2,   13,    5,    9,   17,    9,   11,    2,    1,\n",
            "          5,    5,    1,    3,    4]))\n",
            "(array([0., 1.]), array([12391, 11317]))\n"
          ],
          "name": "stdout"
        }
      ]
    },
    {
      "cell_type": "code",
      "metadata": {
        "colab": {
          "base_uri": "https://localhost:8080/",
          "height": 279
        },
        "id": "bzd3tj1B6suN",
        "outputId": "95bbbc49-68e8-46fc-b033-74bc74a13245"
      },
      "source": [
        "plt.plot(np.unique(age, return_counts=True)[1])\n",
        "plt.xlabel(\"Age Distribution\")\n",
        "plt.show()"
      ],
      "execution_count": 10,
      "outputs": [
        {
          "output_type": "display_data",
          "data": {
            "image/png": "[encoded data removed]",
            "text/plain": [
              "<Figure size 432x288 with 1 Axes>"
            ]
          },
          "metadata": {
            "tags": [],
            "needs_background": "light"
          }
        }
      ]
    },
    {
      "cell_type": "code",
      "metadata": {
        "id": "kVG3ZNll65qD"
      },
      "source": [
        "yData = np.zeros((len(dataFiles), 2, 1))  # Storing Age and Gender labels in a list\n",
        "\n",
        "for i in range(len(dataFiles)):\n",
        "    yData[i][0] = [age[i]]\n",
        "    yData[i][1] = [gender[i]]\n",
        "\n",
        "images = images / 255  # Normalizing image data"
      ],
      "execution_count": 11,
      "outputs": []
    },
    {
      "cell_type": "markdown",
      "metadata": {
        "id": "CakB64SM8zl2"
      },
      "source": [
        "### Dividing into Training and Testing data (80:20)"
      ]
    },
    {
      "cell_type": "code",
      "metadata": {
        "colab": {
          "base_uri": "https://localhost:8080/"
        },
        "id": "VvpBiJVK7LJO",
        "outputId": "e93f9ad0-9e59-4e2c-fd45-82003b264575"
      },
      "source": [
        "# Train Test Split function required same length of x[0] and y[0]\n",
        "xTrain, xTest, yTrain, yTest = train_test_split(images, yData, test_size=0.2)\n",
        "\n",
        "print(xTrain.shape, yTrain.shape)\n",
        "print(yTrain[0:10])\n",
        "\n",
        "# Changing the shape of yTrain and yTest as required by the model\n",
        "yTrain = [yTrain[:, 0], yTrain[:, 1]]\n",
        "yTest = [yTest[:, 0], yTest[:, 1]]\n",
        "# print(yTrain.shape)\n",
        "print(yTrain[0:10])"
      ],
      "execution_count": 12,
      "outputs": [
        {
          "output_type": "stream",
          "text": [
            "(18966, 48, 48, 3) (18966, 2, 1)\n",
            "[[[56.]\n",
            "  [ 0.]]\n",
            "\n",
            " [[25.]\n",
            "  [ 0.]]\n",
            "\n",
            " [[26.]\n",
            "  [ 1.]]\n",
            "\n",
            " [[35.]\n",
            "  [ 1.]]\n",
            "\n",
            " [[48.]\n",
            "  [ 1.]]\n",
            "\n",
            " [[85.]\n",
            "  [ 0.]]\n",
            "\n",
            " [[52.]\n",
            "  [ 0.]]\n",
            "\n",
            " [[42.]\n",
            "  [ 0.]]\n",
            "\n",
            " [[39.]\n",
            "  [ 0.]]\n",
            "\n",
            " [[22.]\n",
            "  [ 0.]]]\n",
            "[array([[56.],\n",
            "       [25.],\n",
            "       [26.],\n",
            "       ...,\n",
            "       [40.],\n",
            "       [40.],\n",
            "       [44.]]), array([[0.],\n",
            "       [0.],\n",
            "       [1.],\n",
            "       ...,\n",
            "       [0.],\n",
            "       [0.],\n",
            "       [0.]])]\n"
          ],
          "name": "stdout"
        }
      ]
    },
    {
      "cell_type": "markdown",
      "metadata": {
        "id": "doZFVkOT_7Ih"
      },
      "source": [
        "## Model Building"
      ]
    },
    {
      "cell_type": "code",
      "metadata": {
        "colab": {
          "base_uri": "https://localhost:8080/"
        },
        "id": "jJMh64Xx9Fzk",
        "outputId": "5671ba92-fad0-4dd6-c937-4cd432acdcb0"
      },
      "source": [
        "input = Input((48, 48, 3))\n",
        "\n",
        "conv = Conv2D(32, kernel_size=(3, 3), activation='relu', padding='same')(input)\n",
        "mpool = MaxPooling2D(pool_size=(2, 2))(conv)\n",
        "drop = Dropout(0.1)(mpool)\n",
        "\n",
        "conv = Conv2D(64, kernel_size=(3, 3), activation='relu', padding='same')(drop)\n",
        "mpool = MaxPooling2D(pool_size=(2, 2))(conv)\n",
        "drop = Dropout(0.1)(mpool)\n",
        "\n",
        "conv = Conv2D(128, kernel_size=(3, 3), activation='relu', padding='same')(drop)\n",
        "mpool = MaxPooling2D(pool_size=(2, 2))(conv)\n",
        "drop = Dropout(0.1)(mpool)\n",
        "\n",
        "conv = Conv2D(256, kernel_size=(3, 3), activation='relu', padding='same')(drop)\n",
        "mpool = MaxPooling2D(pool_size=(2, 2))(conv)\n",
        "drop = Dropout(0.1)(mpool)\n",
        "\n",
        "flat = Flatten()(drop)\n",
        "\n",
        "dense1 = Dense(64, activation='relu')(flat)\n",
        "drop1 = Dropout(0.2)(dense1)\n",
        "outAge = Dense(1, activation='relu', name='AgeOut')(drop1)\n",
        "\n",
        "dense2 = Dense(64, activation='relu')(flat)\n",
        "drop2 = Dropout(0.2)(dense2)\n",
        "outGen = Dense(1, activation='sigmoid', name='GenOut')(drop2)\n",
        "\n",
        "model = Model(inputs=[input], outputs=[outAge, outGen])\n",
        "model.compile(loss=['mae', 'binary_crossentropy'], optimizer='Adam', metrics=['Accuracy'])\n",
        "\n",
        "model.summary()"
      ],
      "execution_count": 13,
      "outputs": [
        {
          "output_type": "stream",
          "text": [
            "Model: \"model\"\n",
            "__________________________________________________________________________________________________\n",
            "Layer (type)                    Output Shape         Param #     Connected to                     \n",
            "==================================================================================================\n",
            "input_1 (InputLayer)            [(None, 48, 48, 3)]  0                                            \n",
            "__________________________________________________________________________________________________\n",
            "conv2d (Conv2D)                 (None, 48, 48, 32)   896         input_1[0][0]                    \n",
            "__________________________________________________________________________________________________\n",
            "max_pooling2d (MaxPooling2D)    (None, 24, 24, 32)   0           conv2d[0][0]                     \n",
            "__________________________________________________________________________________________________\n",
            "dropout (Dropout)               (None, 24, 24, 32)   0           max_pooling2d[0][0]              \n",
            "__________________________________________________________________________________________________\n",
            "conv2d_1 (Conv2D)               (None, 24, 24, 64)   18496       dropout[0][0]                    \n",
            "__________________________________________________________________________________________________\n",
            "max_pooling2d_1 (MaxPooling2D)  (None, 12, 12, 64)   0           conv2d_1[0][0]                   \n",
            "__________________________________________________________________________________________________\n",
            "dropout_1 (Dropout)             (None, 12, 12, 64)   0           max_pooling2d_1[0][0]            \n",
            "__________________________________________________________________________________________________\n",
            "conv2d_2 (Conv2D)               (None, 12, 12, 128)  73856       dropout_1[0][0]                  \n",
            "__________________________________________________________________________________________________\n",
            "max_pooling2d_2 (MaxPooling2D)  (None, 6, 6, 128)    0           conv2d_2[0][0]                   \n",
            "__________________________________________________________________________________________________\n",
            "dropout_2 (Dropout)             (None, 6, 6, 128)    0           max_pooling2d_2[0][0]            \n",
            "__________________________________________________________________________________________________\n",
            "conv2d_3 (Conv2D)               (None, 6, 6, 256)    295168      dropout_2[0][0]                  \n",
            "__________________________________________________________________________________________________\n",
            "max_pooling2d_3 (MaxPooling2D)  (None, 3, 3, 256)    0           conv2d_3[0][0]                   \n",
            "__________________________________________________________________________________________________\n",
            "dropout_3 (Dropout)             (None, 3, 3, 256)    0           max_pooling2d_3[0][0]            \n",
            "__________________________________________________________________________________________________\n",
            "flatten (Flatten)               (None, 2304)         0           dropout_3[0][0]                  \n",
            "__________________________________________________________________________________________________\n",
            "dense (Dense)                   (None, 64)           147520      flatten[0][0]                    \n",
            "__________________________________________________________________________________________________\n",
            "dense_1 (Dense)                 (None, 64)           147520      flatten[0][0]                    \n",
            "__________________________________________________________________________________________________\n",
            "dropout_4 (Dropout)             (None, 64)           0           dense[0][0]                      \n",
            "__________________________________________________________________________________________________\n",
            "dropout_5 (Dropout)             (None, 64)           0           dense_1[0][0]                    \n",
            "__________________________________________________________________________________________________\n",
            "AgeOut (Dense)                  (None, 1)            65          dropout_4[0][0]                  \n",
            "__________________________________________________________________________________________________\n",
            "GenOut (Dense)                  (None, 1)            65          dropout_5[0][0]                  \n",
            "==================================================================================================\n",
            "Total params: 683,586\n",
            "Trainable params: 683,586\n",
            "Non-trainable params: 0\n",
            "__________________________________________________________________________________________________\n"
          ],
          "name": "stdout"
        }
      ]
    },
    {
      "cell_type": "code",
      "metadata": {
        "id": "hYAADFjvKkW0"
      },
      "source": [
        "saveModel = 'Detection.h5'\n",
        "earlyStopping = EarlyStopping(patience=75, monitor='val_loss', restore_best_weights=True)\n",
        "callbacks = [earlyStopping]"
      ],
      "execution_count": 15,
      "outputs": []
    },
    {
      "cell_type": "code",
      "metadata": {
        "colab": {
          "base_uri": "https://localhost:8080/"
        },
        "id": "o-Az243KDxL2",
        "outputId": "93dcac93-f70d-4cd3-c2fa-5afcd165d764"
      },
      "source": [
        "his = model.fit(xTrain, yTrain, batch_size=64, validation_data=(xTest, yTest), epochs=250, callbacks=[callbacks])"
      ],
      "execution_count": 17,
      "outputs": [
        {
          "output_type": "stream",
          "text": [
            "Epoch 1/250\n",
            "297/297 [==============================] - 3s 11ms/step - loss: 4.5352 - AgeOut_loss: 4.3683 - GenOut_loss: 0.1669 - AgeOut_accuracy: 0.0000e+00 - GenOut_accuracy: 0.0181 - val_loss: 6.6414 - val_AgeOut_loss: 6.3531 - val_GenOut_loss: 0.2883 - val_AgeOut_accuracy: 0.0000e+00 - val_GenOut_accuracy: 0.0051\n",
            "Epoch 2/250\n",
            "297/297 [==============================] - 3s 10ms/step - loss: 4.5261 - AgeOut_loss: 4.3546 - GenOut_loss: 0.1715 - AgeOut_accuracy: 0.0000e+00 - GenOut_accuracy: 0.0179 - val_loss: 6.4734 - val_AgeOut_loss: 6.1987 - val_GenOut_loss: 0.2747 - val_AgeOut_accuracy: 0.0000e+00 - val_GenOut_accuracy: 0.0055\n",
            "Epoch 3/250\n",
            "297/297 [==============================] - 3s 10ms/step - loss: 4.5115 - AgeOut_loss: 4.3449 - GenOut_loss: 0.1665 - AgeOut_accuracy: 0.0000e+00 - GenOut_accuracy: 0.0147 - val_loss: 6.6237 - val_AgeOut_loss: 6.3404 - val_GenOut_loss: 0.2832 - val_AgeOut_accuracy: 0.0000e+00 - val_GenOut_accuracy: 0.0040\n",
            "Epoch 4/250\n",
            "297/297 [==============================] - 3s 10ms/step - loss: 4.4971 - AgeOut_loss: 4.3255 - GenOut_loss: 0.1716 - AgeOut_accuracy: 0.0000e+00 - GenOut_accuracy: 0.0178 - val_loss: 6.5100 - val_AgeOut_loss: 6.2365 - val_GenOut_loss: 0.2735 - val_AgeOut_accuracy: 0.0000e+00 - val_GenOut_accuracy: 0.0070\n",
            "Epoch 5/250\n",
            "297/297 [==============================] - 3s 10ms/step - loss: 4.4650 - AgeOut_loss: 4.2974 - GenOut_loss: 0.1677 - AgeOut_accuracy: 0.0000e+00 - GenOut_accuracy: 0.0172 - val_loss: 6.9940 - val_AgeOut_loss: 6.6946 - val_GenOut_loss: 0.2994 - val_AgeOut_accuracy: 0.0000e+00 - val_GenOut_accuracy: 0.0011\n",
            "Epoch 6/250\n",
            "297/297 [==============================] - 3s 10ms/step - loss: 4.5126 - AgeOut_loss: 4.3442 - GenOut_loss: 0.1684 - AgeOut_accuracy: 0.0000e+00 - GenOut_accuracy: 0.0197 - val_loss: 6.4721 - val_AgeOut_loss: 6.2015 - val_GenOut_loss: 0.2705 - val_AgeOut_accuracy: 0.0000e+00 - val_GenOut_accuracy: 0.0078\n",
            "Epoch 7/250\n",
            "297/297 [==============================] - 3s 11ms/step - loss: 4.5046 - AgeOut_loss: 4.3360 - GenOut_loss: 0.1686 - AgeOut_accuracy: 0.0000e+00 - GenOut_accuracy: 0.0219 - val_loss: 7.2581 - val_AgeOut_loss: 6.9888 - val_GenOut_loss: 0.2694 - val_AgeOut_accuracy: 0.0000e+00 - val_GenOut_accuracy: 0.0072\n",
            "Epoch 8/250\n",
            "297/297 [==============================] - 3s 10ms/step - loss: 4.4791 - AgeOut_loss: 4.3151 - GenOut_loss: 0.1640 - AgeOut_accuracy: 0.0000e+00 - GenOut_accuracy: 0.0177 - val_loss: 6.7635 - val_AgeOut_loss: 6.4782 - val_GenOut_loss: 0.2852 - val_AgeOut_accuracy: 0.0000e+00 - val_GenOut_accuracy: 0.0046\n",
            "Epoch 9/250\n",
            "297/297 [==============================] - 3s 10ms/step - loss: 4.4248 - AgeOut_loss: 4.2590 - GenOut_loss: 0.1658 - AgeOut_accuracy: 0.0000e+00 - GenOut_accuracy: 0.0221 - val_loss: 6.8367 - val_AgeOut_loss: 6.5491 - val_GenOut_loss: 0.2875 - val_AgeOut_accuracy: 0.0000e+00 - val_GenOut_accuracy: 0.0065\n",
            "Epoch 10/250\n",
            "297/297 [==============================] - 3s 10ms/step - loss: 4.4566 - AgeOut_loss: 4.2892 - GenOut_loss: 0.1674 - AgeOut_accuracy: 0.0000e+00 - GenOut_accuracy: 0.0179 - val_loss: 6.7971 - val_AgeOut_loss: 6.5091 - val_GenOut_loss: 0.2880 - val_AgeOut_accuracy: 0.0000e+00 - val_GenOut_accuracy: 0.0040\n",
            "Epoch 11/250\n",
            "297/297 [==============================] - 3s 10ms/step - loss: 4.4283 - AgeOut_loss: 4.2650 - GenOut_loss: 0.1633 - AgeOut_accuracy: 0.0000e+00 - GenOut_accuracy: 0.0151 - val_loss: 6.4866 - val_AgeOut_loss: 6.1912 - val_GenOut_loss: 0.2954 - val_AgeOut_accuracy: 0.0000e+00 - val_GenOut_accuracy: 0.0080\n",
            "Epoch 12/250\n",
            "297/297 [==============================] - 3s 10ms/step - loss: 4.4495 - AgeOut_loss: 4.2912 - GenOut_loss: 0.1584 - AgeOut_accuracy: 0.0000e+00 - GenOut_accuracy: 0.0202 - val_loss: 6.7035 - val_AgeOut_loss: 6.4124 - val_GenOut_loss: 0.2911 - val_AgeOut_accuracy: 0.0000e+00 - val_GenOut_accuracy: 0.0061\n",
            "Epoch 13/250\n",
            "297/297 [==============================] - 3s 10ms/step - loss: 4.4173 - AgeOut_loss: 4.2545 - GenOut_loss: 0.1628 - AgeOut_accuracy: 0.0000e+00 - GenOut_accuracy: 0.0170 - val_loss: 6.8304 - val_AgeOut_loss: 6.5539 - val_GenOut_loss: 0.2765 - val_AgeOut_accuracy: 0.0000e+00 - val_GenOut_accuracy: 0.0055\n",
            "Epoch 14/250\n",
            "297/297 [==============================] - 3s 10ms/step - loss: 4.4217 - AgeOut_loss: 4.2596 - GenOut_loss: 0.1621 - AgeOut_accuracy: 0.0000e+00 - GenOut_accuracy: 0.0186 - val_loss: 6.5612 - val_AgeOut_loss: 6.2727 - val_GenOut_loss: 0.2885 - val_AgeOut_accuracy: 0.0000e+00 - val_GenOut_accuracy: 0.0076\n",
            "Epoch 15/250\n",
            "297/297 [==============================] - 3s 10ms/step - loss: 4.3872 - AgeOut_loss: 4.2261 - GenOut_loss: 0.1611 - AgeOut_accuracy: 0.0000e+00 - GenOut_accuracy: 0.0232 - val_loss: 6.7214 - val_AgeOut_loss: 6.4390 - val_GenOut_loss: 0.2824 - val_AgeOut_accuracy: 0.0000e+00 - val_GenOut_accuracy: 0.0118\n",
            "Epoch 16/250\n",
            "297/297 [==============================] - 3s 10ms/step - loss: 4.4112 - AgeOut_loss: 4.2570 - GenOut_loss: 0.1542 - AgeOut_accuracy: 0.0000e+00 - GenOut_accuracy: 0.0238 - val_loss: 6.4806 - val_AgeOut_loss: 6.2011 - val_GenOut_loss: 0.2795 - val_AgeOut_accuracy: 0.0000e+00 - val_GenOut_accuracy: 0.0091\n",
            "Epoch 17/250\n",
            "297/297 [==============================] - 3s 10ms/step - loss: 4.3913 - AgeOut_loss: 4.2348 - GenOut_loss: 0.1565 - AgeOut_accuracy: 0.0000e+00 - GenOut_accuracy: 0.0256 - val_loss: 7.1060 - val_AgeOut_loss: 6.8300 - val_GenOut_loss: 0.2759 - val_AgeOut_accuracy: 0.0000e+00 - val_GenOut_accuracy: 0.0053\n",
            "Epoch 18/250\n",
            "297/297 [==============================] - 3s 10ms/step - loss: 4.3843 - AgeOut_loss: 4.2239 - GenOut_loss: 0.1605 - AgeOut_accuracy: 0.0000e+00 - GenOut_accuracy: 0.0225 - val_loss: 6.5949 - val_AgeOut_loss: 6.3083 - val_GenOut_loss: 0.2866 - val_AgeOut_accuracy: 0.0000e+00 - val_GenOut_accuracy: 0.0103\n",
            "Epoch 19/250\n",
            "297/297 [==============================] - 3s 10ms/step - loss: 4.3464 - AgeOut_loss: 4.1901 - GenOut_loss: 0.1563 - AgeOut_accuracy: 0.0000e+00 - GenOut_accuracy: 0.0292 - val_loss: 6.4622 - val_AgeOut_loss: 6.1636 - val_GenOut_loss: 0.2986 - val_AgeOut_accuracy: 0.0000e+00 - val_GenOut_accuracy: 0.0110\n",
            "Epoch 20/250\n",
            "297/297 [==============================] - 3s 10ms/step - loss: 4.3621 - AgeOut_loss: 4.2052 - GenOut_loss: 0.1568 - AgeOut_accuracy: 0.0000e+00 - GenOut_accuracy: 0.0255 - val_loss: 6.7444 - val_AgeOut_loss: 6.4627 - val_GenOut_loss: 0.2816 - val_AgeOut_accuracy: 0.0000e+00 - val_GenOut_accuracy: 0.0131\n",
            "Epoch 21/250\n",
            "297/297 [==============================] - 3s 10ms/step - loss: 4.3333 - AgeOut_loss: 4.1760 - GenOut_loss: 0.1573 - AgeOut_accuracy: 0.0000e+00 - GenOut_accuracy: 0.0282 - val_loss: 6.7222 - val_AgeOut_loss: 6.4356 - val_GenOut_loss: 0.2867 - val_AgeOut_accuracy: 0.0000e+00 - val_GenOut_accuracy: 0.0124\n",
            "Epoch 22/250\n",
            "297/297 [==============================] - 3s 10ms/step - loss: 4.3425 - AgeOut_loss: 4.1859 - GenOut_loss: 0.1566 - AgeOut_accuracy: 0.0000e+00 - GenOut_accuracy: 0.0293 - val_loss: 6.5323 - val_AgeOut_loss: 6.2518 - val_GenOut_loss: 0.2805 - val_AgeOut_accuracy: 0.0000e+00 - val_GenOut_accuracy: 0.0099\n",
            "Epoch 23/250\n",
            "297/297 [==============================] - 3s 10ms/step - loss: 4.3538 - AgeOut_loss: 4.1982 - GenOut_loss: 0.1555 - AgeOut_accuracy: 0.0000e+00 - GenOut_accuracy: 0.0307 - val_loss: 6.5769 - val_AgeOut_loss: 6.2859 - val_GenOut_loss: 0.2910 - val_AgeOut_accuracy: 0.0000e+00 - val_GenOut_accuracy: 0.0181\n",
            "Epoch 24/250\n",
            "297/297 [==============================] - 3s 10ms/step - loss: 4.3517 - AgeOut_loss: 4.1959 - GenOut_loss: 0.1559 - AgeOut_accuracy: 0.0000e+00 - GenOut_accuracy: 0.0298 - val_loss: 6.5654 - val_AgeOut_loss: 6.2838 - val_GenOut_loss: 0.2816 - val_AgeOut_accuracy: 0.0000e+00 - val_GenOut_accuracy: 0.0209\n",
            "Epoch 25/250\n",
            "297/297 [==============================] - 3s 10ms/step - loss: 4.3285 - AgeOut_loss: 4.1702 - GenOut_loss: 0.1583 - AgeOut_accuracy: 5.2726e-05 - GenOut_accuracy: 0.0291 - val_loss: 6.6687 - val_AgeOut_loss: 6.3721 - val_GenOut_loss: 0.2967 - val_AgeOut_accuracy: 0.0000e+00 - val_GenOut_accuracy: 0.0211\n",
            "Epoch 26/250\n",
            "297/297 [==============================] - 3s 10ms/step - loss: 4.3221 - AgeOut_loss: 4.1703 - GenOut_loss: 0.1519 - AgeOut_accuracy: 0.0000e+00 - GenOut_accuracy: 0.0311 - val_loss: 6.5496 - val_AgeOut_loss: 6.2632 - val_GenOut_loss: 0.2864 - val_AgeOut_accuracy: 0.0000e+00 - val_GenOut_accuracy: 0.0186\n",
            "Epoch 27/250\n",
            "297/297 [==============================] - 3s 10ms/step - loss: 4.2915 - AgeOut_loss: 4.1369 - GenOut_loss: 0.1547 - AgeOut_accuracy: 0.0000e+00 - GenOut_accuracy: 0.0377 - val_loss: 7.2612 - val_AgeOut_loss: 6.9727 - val_GenOut_loss: 0.2885 - val_AgeOut_accuracy: 0.0000e+00 - val_GenOut_accuracy: 0.0078\n",
            "Epoch 28/250\n",
            "297/297 [==============================] - 3s 10ms/step - loss: 4.3138 - AgeOut_loss: 4.1616 - GenOut_loss: 0.1522 - AgeOut_accuracy: 0.0000e+00 - GenOut_accuracy: 0.0344 - val_loss: 7.1605 - val_AgeOut_loss: 6.8834 - val_GenOut_loss: 0.2771 - val_AgeOut_accuracy: 0.0000e+00 - val_GenOut_accuracy: 0.0135\n",
            "Epoch 29/250\n",
            "297/297 [==============================] - 3s 10ms/step - loss: 4.3153 - AgeOut_loss: 4.1656 - GenOut_loss: 0.1497 - AgeOut_accuracy: 0.0000e+00 - GenOut_accuracy: 0.0307 - val_loss: 6.4882 - val_AgeOut_loss: 6.1912 - val_GenOut_loss: 0.2970 - val_AgeOut_accuracy: 0.0000e+00 - val_GenOut_accuracy: 0.0198\n",
            "Epoch 30/250\n",
            "297/297 [==============================] - 3s 10ms/step - loss: 4.2942 - AgeOut_loss: 4.1447 - GenOut_loss: 0.1495 - AgeOut_accuracy: 0.0000e+00 - GenOut_accuracy: 0.0370 - val_loss: 6.8616 - val_AgeOut_loss: 6.5855 - val_GenOut_loss: 0.2761 - val_AgeOut_accuracy: 0.0000e+00 - val_GenOut_accuracy: 0.0141\n",
            "Epoch 31/250\n",
            "297/297 [==============================] - 3s 10ms/step - loss: 4.3135 - AgeOut_loss: 4.1640 - GenOut_loss: 0.1496 - AgeOut_accuracy: 0.0000e+00 - GenOut_accuracy: 0.0332 - val_loss: 6.7972 - val_AgeOut_loss: 6.5112 - val_GenOut_loss: 0.2860 - val_AgeOut_accuracy: 0.0000e+00 - val_GenOut_accuracy: 0.0099\n",
            "Epoch 32/250\n",
            "297/297 [==============================] - 3s 10ms/step - loss: 4.2946 - AgeOut_loss: 4.1469 - GenOut_loss: 0.1478 - AgeOut_accuracy: 0.0000e+00 - GenOut_accuracy: 0.0375 - val_loss: 6.6603 - val_AgeOut_loss: 6.3786 - val_GenOut_loss: 0.2816 - val_AgeOut_accuracy: 0.0000e+00 - val_GenOut_accuracy: 0.0105\n",
            "Epoch 33/250\n",
            "297/297 [==============================] - 3s 10ms/step - loss: 4.2328 - AgeOut_loss: 4.0863 - GenOut_loss: 0.1465 - AgeOut_accuracy: 0.0000e+00 - GenOut_accuracy: 0.0329 - val_loss: 6.7390 - val_AgeOut_loss: 6.4491 - val_GenOut_loss: 0.2900 - val_AgeOut_accuracy: 0.0000e+00 - val_GenOut_accuracy: 0.0266\n",
            "Epoch 34/250\n",
            "297/297 [==============================] - 3s 10ms/step - loss: 4.2465 - AgeOut_loss: 4.0964 - GenOut_loss: 0.1501 - AgeOut_accuracy: 0.0000e+00 - GenOut_accuracy: 0.0339 - val_loss: 6.5750 - val_AgeOut_loss: 6.2829 - val_GenOut_loss: 0.2921 - val_AgeOut_accuracy: 0.0000e+00 - val_GenOut_accuracy: 0.0215\n",
            "Epoch 35/250\n",
            "297/297 [==============================] - 3s 10ms/step - loss: 4.2888 - AgeOut_loss: 4.1392 - GenOut_loss: 0.1496 - AgeOut_accuracy: 0.0000e+00 - GenOut_accuracy: 0.0321 - val_loss: 6.9540 - val_AgeOut_loss: 6.6566 - val_GenOut_loss: 0.2975 - val_AgeOut_accuracy: 0.0000e+00 - val_GenOut_accuracy: 0.0122\n",
            "Epoch 36/250\n",
            "297/297 [==============================] - 3s 10ms/step - loss: 4.2705 - AgeOut_loss: 4.1187 - GenOut_loss: 0.1517 - AgeOut_accuracy: 0.0000e+00 - GenOut_accuracy: 0.0346 - val_loss: 6.5802 - val_AgeOut_loss: 6.2978 - val_GenOut_loss: 0.2824 - val_AgeOut_accuracy: 0.0000e+00 - val_GenOut_accuracy: 0.0198\n",
            "Epoch 37/250\n",
            "297/297 [==============================] - 3s 10ms/step - loss: 4.2421 - AgeOut_loss: 4.0946 - GenOut_loss: 0.1475 - AgeOut_accuracy: 0.0000e+00 - GenOut_accuracy: 0.0434 - val_loss: 6.4842 - val_AgeOut_loss: 6.1867 - val_GenOut_loss: 0.2976 - val_AgeOut_accuracy: 0.0000e+00 - val_GenOut_accuracy: 0.0205\n",
            "Epoch 38/250\n",
            "297/297 [==============================] - 3s 10ms/step - loss: 4.2480 - AgeOut_loss: 4.1021 - GenOut_loss: 0.1459 - AgeOut_accuracy: 0.0000e+00 - GenOut_accuracy: 0.0372 - val_loss: 6.8174 - val_AgeOut_loss: 6.5358 - val_GenOut_loss: 0.2816 - val_AgeOut_accuracy: 0.0000e+00 - val_GenOut_accuracy: 0.0150\n",
            "Epoch 39/250\n",
            "297/297 [==============================] - 3s 10ms/step - loss: 4.2625 - AgeOut_loss: 4.1190 - GenOut_loss: 0.1435 - AgeOut_accuracy: 0.0000e+00 - GenOut_accuracy: 0.0391 - val_loss: 6.8293 - val_AgeOut_loss: 6.5236 - val_GenOut_loss: 0.3058 - val_AgeOut_accuracy: 0.0000e+00 - val_GenOut_accuracy: 0.0240\n",
            "Epoch 40/250\n",
            "297/297 [==============================] - 3s 10ms/step - loss: 4.2434 - AgeOut_loss: 4.0974 - GenOut_loss: 0.1460 - AgeOut_accuracy: 0.0000e+00 - GenOut_accuracy: 0.0366 - val_loss: 6.8133 - val_AgeOut_loss: 6.5114 - val_GenOut_loss: 0.3019 - val_AgeOut_accuracy: 0.0000e+00 - val_GenOut_accuracy: 0.0160\n",
            "Epoch 41/250\n",
            "297/297 [==============================] - 3s 10ms/step - loss: 4.2495 - AgeOut_loss: 4.0999 - GenOut_loss: 0.1495 - AgeOut_accuracy: 0.0000e+00 - GenOut_accuracy: 0.0366 - val_loss: 6.9586 - val_AgeOut_loss: 6.6751 - val_GenOut_loss: 0.2836 - val_AgeOut_accuracy: 0.0000e+00 - val_GenOut_accuracy: 0.0108\n",
            "Epoch 42/250\n",
            "297/297 [==============================] - 3s 10ms/step - loss: 4.2268 - AgeOut_loss: 4.0800 - GenOut_loss: 0.1468 - AgeOut_accuracy: 0.0000e+00 - GenOut_accuracy: 0.0314 - val_loss: 6.8674 - val_AgeOut_loss: 6.5738 - val_GenOut_loss: 0.2936 - val_AgeOut_accuracy: 0.0000e+00 - val_GenOut_accuracy: 0.0200\n",
            "Epoch 43/250\n",
            "297/297 [==============================] - 3s 10ms/step - loss: 4.1965 - AgeOut_loss: 4.0525 - GenOut_loss: 0.1440 - AgeOut_accuracy: 0.0000e+00 - GenOut_accuracy: 0.0385 - val_loss: 6.4514 - val_AgeOut_loss: 6.1684 - val_GenOut_loss: 0.2831 - val_AgeOut_accuracy: 0.0000e+00 - val_GenOut_accuracy: 0.0154\n",
            "Epoch 44/250\n",
            "297/297 [==============================] - 3s 10ms/step - loss: 4.2388 - AgeOut_loss: 4.0986 - GenOut_loss: 0.1402 - AgeOut_accuracy: 0.0000e+00 - GenOut_accuracy: 0.0373 - val_loss: 6.8665 - val_AgeOut_loss: 6.5719 - val_GenOut_loss: 0.2946 - val_AgeOut_accuracy: 0.0000e+00 - val_GenOut_accuracy: 0.0183\n",
            "Epoch 45/250\n",
            "297/297 [==============================] - 3s 10ms/step - loss: 4.2603 - AgeOut_loss: 4.1186 - GenOut_loss: 0.1417 - AgeOut_accuracy: 0.0000e+00 - GenOut_accuracy: 0.0384 - val_loss: 7.1758 - val_AgeOut_loss: 6.8694 - val_GenOut_loss: 0.3064 - val_AgeOut_accuracy: 0.0000e+00 - val_GenOut_accuracy: 0.0200\n",
            "Epoch 46/250\n",
            "297/297 [==============================] - 3s 10ms/step - loss: 4.1987 - AgeOut_loss: 4.0533 - GenOut_loss: 0.1454 - AgeOut_accuracy: 0.0000e+00 - GenOut_accuracy: 0.0378 - val_loss: 6.7764 - val_AgeOut_loss: 6.4730 - val_GenOut_loss: 0.3034 - val_AgeOut_accuracy: 0.0000e+00 - val_GenOut_accuracy: 0.0152\n",
            "Epoch 47/250\n",
            "297/297 [==============================] - 3s 10ms/step - loss: 4.1337 - AgeOut_loss: 3.9921 - GenOut_loss: 0.1416 - AgeOut_accuracy: 0.0000e+00 - GenOut_accuracy: 0.0439 - val_loss: 6.5573 - val_AgeOut_loss: 6.2710 - val_GenOut_loss: 0.2863 - val_AgeOut_accuracy: 0.0000e+00 - val_GenOut_accuracy: 0.0228\n",
            "Epoch 48/250\n",
            "297/297 [==============================] - 3s 10ms/step - loss: 4.2091 - AgeOut_loss: 4.0687 - GenOut_loss: 0.1404 - AgeOut_accuracy: 0.0000e+00 - GenOut_accuracy: 0.0398 - val_loss: 7.0133 - val_AgeOut_loss: 6.7188 - val_GenOut_loss: 0.2945 - val_AgeOut_accuracy: 0.0000e+00 - val_GenOut_accuracy: 0.0209\n",
            "Epoch 49/250\n",
            "297/297 [==============================] - 3s 10ms/step - loss: 4.1411 - AgeOut_loss: 4.0010 - GenOut_loss: 0.1401 - AgeOut_accuracy: 0.0000e+00 - GenOut_accuracy: 0.0400 - val_loss: 6.7871 - val_AgeOut_loss: 6.4954 - val_GenOut_loss: 0.2916 - val_AgeOut_accuracy: 0.0000e+00 - val_GenOut_accuracy: 0.0202\n",
            "Epoch 50/250\n",
            "297/297 [==============================] - 3s 10ms/step - loss: 4.2005 - AgeOut_loss: 4.0572 - GenOut_loss: 0.1433 - AgeOut_accuracy: 0.0000e+00 - GenOut_accuracy: 0.0437 - val_loss: 6.6417 - val_AgeOut_loss: 6.3585 - val_GenOut_loss: 0.2831 - val_AgeOut_accuracy: 0.0000e+00 - val_GenOut_accuracy: 0.0183\n",
            "Epoch 51/250\n",
            "297/297 [==============================] - 3s 10ms/step - loss: 4.2001 - AgeOut_loss: 4.0607 - GenOut_loss: 0.1393 - AgeOut_accuracy: 0.0000e+00 - GenOut_accuracy: 0.0412 - val_loss: 6.7125 - val_AgeOut_loss: 6.4360 - val_GenOut_loss: 0.2765 - val_AgeOut_accuracy: 0.0000e+00 - val_GenOut_accuracy: 0.0179\n",
            "Epoch 52/250\n",
            "297/297 [==============================] - 3s 10ms/step - loss: 4.1655 - AgeOut_loss: 4.0191 - GenOut_loss: 0.1464 - AgeOut_accuracy: 0.0000e+00 - GenOut_accuracy: 0.0353 - val_loss: 6.5716 - val_AgeOut_loss: 6.2570 - val_GenOut_loss: 0.3146 - val_AgeOut_accuracy: 0.0000e+00 - val_GenOut_accuracy: 0.0390\n",
            "Epoch 53/250\n",
            "297/297 [==============================] - 3s 10ms/step - loss: 4.1460 - AgeOut_loss: 4.0081 - GenOut_loss: 0.1379 - AgeOut_accuracy: 0.0000e+00 - GenOut_accuracy: 0.0385 - val_loss: 6.7651 - val_AgeOut_loss: 6.4423 - val_GenOut_loss: 0.3227 - val_AgeOut_accuracy: 0.0000e+00 - val_GenOut_accuracy: 0.0251\n",
            "Epoch 54/250\n",
            "297/297 [==============================] - 3s 10ms/step - loss: 4.1741 - AgeOut_loss: 4.0348 - GenOut_loss: 0.1393 - AgeOut_accuracy: 0.0000e+00 - GenOut_accuracy: 0.0429 - val_loss: 6.6003 - val_AgeOut_loss: 6.3013 - val_GenOut_loss: 0.2989 - val_AgeOut_accuracy: 0.0000e+00 - val_GenOut_accuracy: 0.0266\n",
            "Epoch 55/250\n",
            "297/297 [==============================] - 3s 10ms/step - loss: 4.1864 - AgeOut_loss: 4.0475 - GenOut_loss: 0.1389 - AgeOut_accuracy: 0.0000e+00 - GenOut_accuracy: 0.0410 - val_loss: 6.6179 - val_AgeOut_loss: 6.3275 - val_GenOut_loss: 0.2904 - val_AgeOut_accuracy: 0.0000e+00 - val_GenOut_accuracy: 0.0179\n",
            "Epoch 56/250\n",
            "297/297 [==============================] - 3s 10ms/step - loss: 4.1397 - AgeOut_loss: 3.9997 - GenOut_loss: 0.1400 - AgeOut_accuracy: 0.0000e+00 - GenOut_accuracy: 0.0380 - val_loss: 6.7286 - val_AgeOut_loss: 6.4325 - val_GenOut_loss: 0.2961 - val_AgeOut_accuracy: 0.0000e+00 - val_GenOut_accuracy: 0.0255\n",
            "Epoch 57/250\n",
            "297/297 [==============================] - 3s 10ms/step - loss: 4.0993 - AgeOut_loss: 3.9658 - GenOut_loss: 0.1335 - AgeOut_accuracy: 0.0000e+00 - GenOut_accuracy: 0.0433 - val_loss: 6.5260 - val_AgeOut_loss: 6.2292 - val_GenOut_loss: 0.2968 - val_AgeOut_accuracy: 0.0000e+00 - val_GenOut_accuracy: 0.0270\n",
            "Epoch 58/250\n",
            "297/297 [==============================] - 3s 10ms/step - loss: 4.0764 - AgeOut_loss: 3.9396 - GenOut_loss: 0.1368 - AgeOut_accuracy: 0.0000e+00 - GenOut_accuracy: 0.0513 - val_loss: 6.6326 - val_AgeOut_loss: 6.3328 - val_GenOut_loss: 0.2998 - val_AgeOut_accuracy: 0.0000e+00 - val_GenOut_accuracy: 0.0321\n",
            "Epoch 59/250\n",
            "297/297 [==============================] - 3s 10ms/step - loss: 4.0568 - AgeOut_loss: 3.9189 - GenOut_loss: 0.1378 - AgeOut_accuracy: 0.0000e+00 - GenOut_accuracy: 0.0489 - val_loss: 6.9030 - val_AgeOut_loss: 6.6237 - val_GenOut_loss: 0.2793 - val_AgeOut_accuracy: 0.0000e+00 - val_GenOut_accuracy: 0.0188\n",
            "Epoch 60/250\n",
            "297/297 [==============================] - 3s 10ms/step - loss: 4.1437 - AgeOut_loss: 4.0096 - GenOut_loss: 0.1341 - AgeOut_accuracy: 0.0000e+00 - GenOut_accuracy: 0.0488 - val_loss: 6.8180 - val_AgeOut_loss: 6.5188 - val_GenOut_loss: 0.2992 - val_AgeOut_accuracy: 0.0000e+00 - val_GenOut_accuracy: 0.0310\n",
            "Epoch 61/250\n",
            "297/297 [==============================] - 3s 10ms/step - loss: 4.0966 - AgeOut_loss: 3.9620 - GenOut_loss: 0.1345 - AgeOut_accuracy: 0.0000e+00 - GenOut_accuracy: 0.0485 - val_loss: 6.5241 - val_AgeOut_loss: 6.2294 - val_GenOut_loss: 0.2947 - val_AgeOut_accuracy: 0.0000e+00 - val_GenOut_accuracy: 0.0278\n",
            "Epoch 62/250\n",
            "297/297 [==============================] - 3s 10ms/step - loss: 4.1102 - AgeOut_loss: 3.9780 - GenOut_loss: 0.1321 - AgeOut_accuracy: 0.0000e+00 - GenOut_accuracy: 0.0534 - val_loss: 6.5669 - val_AgeOut_loss: 6.2485 - val_GenOut_loss: 0.3184 - val_AgeOut_accuracy: 0.0000e+00 - val_GenOut_accuracy: 0.0388\n",
            "Epoch 63/250\n",
            "297/297 [==============================] - 3s 10ms/step - loss: 4.1112 - AgeOut_loss: 3.9790 - GenOut_loss: 0.1322 - AgeOut_accuracy: 0.0000e+00 - GenOut_accuracy: 0.0486 - val_loss: 6.5667 - val_AgeOut_loss: 6.2598 - val_GenOut_loss: 0.3068 - val_AgeOut_accuracy: 0.0000e+00 - val_GenOut_accuracy: 0.0312\n",
            "Epoch 64/250\n",
            "297/297 [==============================] - 3s 10ms/step - loss: 4.1773 - AgeOut_loss: 4.0402 - GenOut_loss: 0.1371 - AgeOut_accuracy: 0.0000e+00 - GenOut_accuracy: 0.0459 - val_loss: 6.6081 - val_AgeOut_loss: 6.3174 - val_GenOut_loss: 0.2907 - val_AgeOut_accuracy: 0.0000e+00 - val_GenOut_accuracy: 0.0255\n",
            "Epoch 65/250\n",
            "297/297 [==============================] - 3s 10ms/step - loss: 4.1075 - AgeOut_loss: 3.9711 - GenOut_loss: 0.1364 - AgeOut_accuracy: 0.0000e+00 - GenOut_accuracy: 0.0441 - val_loss: 6.5734 - val_AgeOut_loss: 6.2448 - val_GenOut_loss: 0.3286 - val_AgeOut_accuracy: 0.0000e+00 - val_GenOut_accuracy: 0.0531\n",
            "Epoch 66/250\n",
            "297/297 [==============================] - 3s 10ms/step - loss: 4.1431 - AgeOut_loss: 4.0046 - GenOut_loss: 0.1385 - AgeOut_accuracy: 0.0000e+00 - GenOut_accuracy: 0.0571 - val_loss: 6.9602 - val_AgeOut_loss: 6.6723 - val_GenOut_loss: 0.2879 - val_AgeOut_accuracy: 0.0000e+00 - val_GenOut_accuracy: 0.0259\n",
            "Epoch 67/250\n",
            "297/297 [==============================] - 3s 10ms/step - loss: 4.0888 - AgeOut_loss: 3.9564 - GenOut_loss: 0.1324 - AgeOut_accuracy: 0.0000e+00 - GenOut_accuracy: 0.0513 - val_loss: 6.9033 - val_AgeOut_loss: 6.6147 - val_GenOut_loss: 0.2886 - val_AgeOut_accuracy: 0.0000e+00 - val_GenOut_accuracy: 0.0217\n",
            "Epoch 68/250\n",
            "297/297 [==============================] - 3s 10ms/step - loss: 4.0504 - AgeOut_loss: 3.9217 - GenOut_loss: 0.1286 - AgeOut_accuracy: 0.0000e+00 - GenOut_accuracy: 0.0495 - val_loss: 6.7174 - val_AgeOut_loss: 6.4300 - val_GenOut_loss: 0.2874 - val_AgeOut_accuracy: 0.0000e+00 - val_GenOut_accuracy: 0.0202\n",
            "Epoch 69/250\n",
            "297/297 [==============================] - 3s 10ms/step - loss: 4.0525 - AgeOut_loss: 3.9174 - GenOut_loss: 0.1351 - AgeOut_accuracy: 0.0000e+00 - GenOut_accuracy: 0.0443 - val_loss: 6.5904 - val_AgeOut_loss: 6.2941 - val_GenOut_loss: 0.2962 - val_AgeOut_accuracy: 0.0000e+00 - val_GenOut_accuracy: 0.0283\n",
            "Epoch 70/250\n",
            "297/297 [==============================] - 3s 10ms/step - loss: 4.0645 - AgeOut_loss: 3.9369 - GenOut_loss: 0.1277 - AgeOut_accuracy: 0.0000e+00 - GenOut_accuracy: 0.0540 - val_loss: 6.6094 - val_AgeOut_loss: 6.3057 - val_GenOut_loss: 0.3037 - val_AgeOut_accuracy: 0.0000e+00 - val_GenOut_accuracy: 0.0335\n",
            "Epoch 71/250\n",
            "297/297 [==============================] - 3s 10ms/step - loss: 3.9990 - AgeOut_loss: 3.8691 - GenOut_loss: 0.1299 - AgeOut_accuracy: 0.0000e+00 - GenOut_accuracy: 0.0478 - val_loss: 6.5961 - val_AgeOut_loss: 6.2779 - val_GenOut_loss: 0.3182 - val_AgeOut_accuracy: 0.0000e+00 - val_GenOut_accuracy: 0.0356\n",
            "Epoch 72/250\n",
            "297/297 [==============================] - 3s 10ms/step - loss: 3.9733 - AgeOut_loss: 3.8485 - GenOut_loss: 0.1248 - AgeOut_accuracy: 0.0000e+00 - GenOut_accuracy: 0.0537 - val_loss: 6.5612 - val_AgeOut_loss: 6.2626 - val_GenOut_loss: 0.2986 - val_AgeOut_accuracy: 0.0000e+00 - val_GenOut_accuracy: 0.0358\n",
            "Epoch 73/250\n",
            "297/297 [==============================] - 3s 10ms/step - loss: 4.0633 - AgeOut_loss: 3.9278 - GenOut_loss: 0.1354 - AgeOut_accuracy: 0.0000e+00 - GenOut_accuracy: 0.0531 - val_loss: 6.6270 - val_AgeOut_loss: 6.3262 - val_GenOut_loss: 0.3008 - val_AgeOut_accuracy: 0.0000e+00 - val_GenOut_accuracy: 0.0287\n",
            "Epoch 74/250\n",
            "297/297 [==============================] - 3s 10ms/step - loss: 4.0699 - AgeOut_loss: 3.9349 - GenOut_loss: 0.1349 - AgeOut_accuracy: 0.0000e+00 - GenOut_accuracy: 0.0450 - val_loss: 6.7658 - val_AgeOut_loss: 6.4650 - val_GenOut_loss: 0.3008 - val_AgeOut_accuracy: 0.0000e+00 - val_GenOut_accuracy: 0.0232\n",
            "Epoch 75/250\n",
            "297/297 [==============================] - 3s 10ms/step - loss: 4.0925 - AgeOut_loss: 3.9552 - GenOut_loss: 0.1373 - AgeOut_accuracy: 0.0000e+00 - GenOut_accuracy: 0.0515 - val_loss: 6.7435 - val_AgeOut_loss: 6.4477 - val_GenOut_loss: 0.2958 - val_AgeOut_accuracy: 0.0000e+00 - val_GenOut_accuracy: 0.0173\n",
            "Epoch 76/250\n",
            "297/297 [==============================] - 3s 10ms/step - loss: 4.0177 - AgeOut_loss: 3.8908 - GenOut_loss: 0.1269 - AgeOut_accuracy: 0.0000e+00 - GenOut_accuracy: 0.0563 - val_loss: 6.5525 - val_AgeOut_loss: 6.2301 - val_GenOut_loss: 0.3224 - val_AgeOut_accuracy: 0.0000e+00 - val_GenOut_accuracy: 0.0557\n",
            "Epoch 77/250\n",
            "297/297 [==============================] - 3s 10ms/step - loss: 4.0266 - AgeOut_loss: 3.9031 - GenOut_loss: 0.1235 - AgeOut_accuracy: 0.0000e+00 - GenOut_accuracy: 0.0580 - val_loss: 7.1022 - val_AgeOut_loss: 6.7940 - val_GenOut_loss: 0.3082 - val_AgeOut_accuracy: 0.0000e+00 - val_GenOut_accuracy: 0.0337\n",
            "Epoch 78/250\n",
            "297/297 [==============================] - 3s 10ms/step - loss: 4.0452 - AgeOut_loss: 3.9198 - GenOut_loss: 0.1254 - AgeOut_accuracy: 0.0000e+00 - GenOut_accuracy: 0.0589 - val_loss: 7.2899 - val_AgeOut_loss: 6.9883 - val_GenOut_loss: 0.3016 - val_AgeOut_accuracy: 0.0000e+00 - val_GenOut_accuracy: 0.0192\n",
            "Epoch 79/250\n",
            "297/297 [==============================] - 3s 10ms/step - loss: 3.9915 - AgeOut_loss: 3.8715 - GenOut_loss: 0.1200 - AgeOut_accuracy: 0.0000e+00 - GenOut_accuracy: 0.0643 - val_loss: 6.6074 - val_AgeOut_loss: 6.2922 - val_GenOut_loss: 0.3153 - val_AgeOut_accuracy: 0.0000e+00 - val_GenOut_accuracy: 0.0409\n",
            "Epoch 80/250\n",
            "297/297 [==============================] - 3s 10ms/step - loss: 4.0145 - AgeOut_loss: 3.8865 - GenOut_loss: 0.1280 - AgeOut_accuracy: 0.0000e+00 - GenOut_accuracy: 0.0655 - val_loss: 6.4588 - val_AgeOut_loss: 6.1505 - val_GenOut_loss: 0.3083 - val_AgeOut_accuracy: 0.0000e+00 - val_GenOut_accuracy: 0.0607\n",
            "Epoch 81/250\n",
            "297/297 [==============================] - 3s 10ms/step - loss: 3.9908 - AgeOut_loss: 3.8658 - GenOut_loss: 0.1251 - AgeOut_accuracy: 0.0000e+00 - GenOut_accuracy: 0.0654 - val_loss: 6.6164 - val_AgeOut_loss: 6.2997 - val_GenOut_loss: 0.3166 - val_AgeOut_accuracy: 0.0000e+00 - val_GenOut_accuracy: 0.0470\n",
            "Epoch 82/250\n",
            "297/297 [==============================] - 3s 10ms/step - loss: 4.0093 - AgeOut_loss: 3.8871 - GenOut_loss: 0.1222 - AgeOut_accuracy: 0.0000e+00 - GenOut_accuracy: 0.0582 - val_loss: 6.7374 - val_AgeOut_loss: 6.4233 - val_GenOut_loss: 0.3141 - val_AgeOut_accuracy: 0.0000e+00 - val_GenOut_accuracy: 0.0363\n",
            "Epoch 83/250\n",
            "297/297 [==============================] - 3s 10ms/step - loss: 3.9941 - AgeOut_loss: 3.8689 - GenOut_loss: 0.1253 - AgeOut_accuracy: 0.0000e+00 - GenOut_accuracy: 0.0607 - val_loss: 6.7569 - val_AgeOut_loss: 6.4331 - val_GenOut_loss: 0.3238 - val_AgeOut_accuracy: 0.0000e+00 - val_GenOut_accuracy: 0.0437\n",
            "Epoch 84/250\n",
            "297/297 [==============================] - 3s 10ms/step - loss: 3.9976 - AgeOut_loss: 3.8693 - GenOut_loss: 0.1283 - AgeOut_accuracy: 0.0000e+00 - GenOut_accuracy: 0.0636 - val_loss: 6.8407 - val_AgeOut_loss: 6.5154 - val_GenOut_loss: 0.3253 - val_AgeOut_accuracy: 2.1088e-04 - val_GenOut_accuracy: 0.0489\n",
            "Epoch 85/250\n",
            "297/297 [==============================] - 3s 10ms/step - loss: 3.9793 - AgeOut_loss: 3.8521 - GenOut_loss: 0.1271 - AgeOut_accuracy: 0.0000e+00 - GenOut_accuracy: 0.0559 - val_loss: 6.6755 - val_AgeOut_loss: 6.3596 - val_GenOut_loss: 0.3159 - val_AgeOut_accuracy: 0.0000e+00 - val_GenOut_accuracy: 0.0390\n",
            "Epoch 86/250\n",
            "297/297 [==============================] - 3s 11ms/step - loss: 3.9676 - AgeOut_loss: 3.8384 - GenOut_loss: 0.1292 - AgeOut_accuracy: 0.0000e+00 - GenOut_accuracy: 0.0541 - val_loss: 6.9090 - val_AgeOut_loss: 6.5968 - val_GenOut_loss: 0.3122 - val_AgeOut_accuracy: 0.0000e+00 - val_GenOut_accuracy: 0.0407\n",
            "Epoch 87/250\n",
            "297/297 [==============================] - 3s 10ms/step - loss: 4.0043 - AgeOut_loss: 3.8781 - GenOut_loss: 0.1262 - AgeOut_accuracy: 0.0000e+00 - GenOut_accuracy: 0.0620 - val_loss: 6.8000 - val_AgeOut_loss: 6.5122 - val_GenOut_loss: 0.2878 - val_AgeOut_accuracy: 0.0000e+00 - val_GenOut_accuracy: 0.0270\n",
            "Epoch 88/250\n",
            "297/297 [==============================] - 3s 10ms/step - loss: 3.9421 - AgeOut_loss: 3.8160 - GenOut_loss: 0.1261 - AgeOut_accuracy: 0.0000e+00 - GenOut_accuracy: 0.0611 - val_loss: 6.7688 - val_AgeOut_loss: 6.4655 - val_GenOut_loss: 0.3033 - val_AgeOut_accuracy: 0.0000e+00 - val_GenOut_accuracy: 0.0380\n",
            "Epoch 89/250\n",
            "297/297 [==============================] - 3s 10ms/step - loss: 3.9821 - AgeOut_loss: 3.8614 - GenOut_loss: 0.1207 - AgeOut_accuracy: 0.0000e+00 - GenOut_accuracy: 0.0564 - val_loss: 6.4438 - val_AgeOut_loss: 6.1443 - val_GenOut_loss: 0.2995 - val_AgeOut_accuracy: 0.0000e+00 - val_GenOut_accuracy: 0.0236\n",
            "Epoch 90/250\n",
            "297/297 [==============================] - 3s 10ms/step - loss: 3.9818 - AgeOut_loss: 3.8583 - GenOut_loss: 0.1234 - AgeOut_accuracy: 0.0000e+00 - GenOut_accuracy: 0.0541 - val_loss: 6.9966 - val_AgeOut_loss: 6.6920 - val_GenOut_loss: 0.3047 - val_AgeOut_accuracy: 0.0000e+00 - val_GenOut_accuracy: 0.0293\n",
            "Epoch 91/250\n",
            "297/297 [==============================] - 3s 10ms/step - loss: 3.9750 - AgeOut_loss: 3.8503 - GenOut_loss: 0.1247 - AgeOut_accuracy: 0.0000e+00 - GenOut_accuracy: 0.0596 - val_loss: 6.6939 - val_AgeOut_loss: 6.3863 - val_GenOut_loss: 0.3076 - val_AgeOut_accuracy: 0.0000e+00 - val_GenOut_accuracy: 0.0375\n",
            "Epoch 92/250\n",
            "297/297 [==============================] - 3s 10ms/step - loss: 3.9228 - AgeOut_loss: 3.8045 - GenOut_loss: 0.1183 - AgeOut_accuracy: 0.0000e+00 - GenOut_accuracy: 0.0654 - val_loss: 6.5871 - val_AgeOut_loss: 6.2800 - val_GenOut_loss: 0.3071 - val_AgeOut_accuracy: 0.0000e+00 - val_GenOut_accuracy: 0.0369\n",
            "Epoch 93/250\n",
            "297/297 [==============================] - 3s 10ms/step - loss: 3.9411 - AgeOut_loss: 3.8224 - GenOut_loss: 0.1186 - AgeOut_accuracy: 0.0000e+00 - GenOut_accuracy: 0.0533 - val_loss: 6.5607 - val_AgeOut_loss: 6.2471 - val_GenOut_loss: 0.3136 - val_AgeOut_accuracy: 0.0000e+00 - val_GenOut_accuracy: 0.0299\n",
            "Epoch 94/250\n",
            "297/297 [==============================] - 3s 10ms/step - loss: 3.9439 - AgeOut_loss: 3.8198 - GenOut_loss: 0.1241 - AgeOut_accuracy: 0.0000e+00 - GenOut_accuracy: 0.0545 - val_loss: 6.5487 - val_AgeOut_loss: 6.2644 - val_GenOut_loss: 0.2843 - val_AgeOut_accuracy: 0.0000e+00 - val_GenOut_accuracy: 0.0369\n",
            "Epoch 95/250\n",
            "297/297 [==============================] - 3s 10ms/step - loss: 3.9895 - AgeOut_loss: 3.8663 - GenOut_loss: 0.1232 - AgeOut_accuracy: 0.0000e+00 - GenOut_accuracy: 0.0597 - val_loss: 6.4930 - val_AgeOut_loss: 6.1906 - val_GenOut_loss: 0.3024 - val_AgeOut_accuracy: 0.0000e+00 - val_GenOut_accuracy: 0.0544\n",
            "Epoch 96/250\n",
            "297/297 [==============================] - 3s 10ms/step - loss: 3.9180 - AgeOut_loss: 3.7962 - GenOut_loss: 0.1218 - AgeOut_accuracy: 0.0000e+00 - GenOut_accuracy: 0.0599 - val_loss: 6.7222 - val_AgeOut_loss: 6.4180 - val_GenOut_loss: 0.3042 - val_AgeOut_accuracy: 0.0000e+00 - val_GenOut_accuracy: 0.0386\n",
            "Epoch 97/250\n",
            "297/297 [==============================] - 3s 10ms/step - loss: 3.9444 - AgeOut_loss: 3.8218 - GenOut_loss: 0.1225 - AgeOut_accuracy: 0.0000e+00 - GenOut_accuracy: 0.0563 - val_loss: 7.2754 - val_AgeOut_loss: 6.9582 - val_GenOut_loss: 0.3172 - val_AgeOut_accuracy: 0.0000e+00 - val_GenOut_accuracy: 0.0426\n",
            "Epoch 98/250\n",
            "297/297 [==============================] - 3s 10ms/step - loss: 3.9775 - AgeOut_loss: 3.8508 - GenOut_loss: 0.1267 - AgeOut_accuracy: 0.0000e+00 - GenOut_accuracy: 0.0583 - val_loss: 6.7684 - val_AgeOut_loss: 6.4512 - val_GenOut_loss: 0.3172 - val_AgeOut_accuracy: 0.0000e+00 - val_GenOut_accuracy: 0.0396\n",
            "Epoch 99/250\n",
            "297/297 [==============================] - 3s 10ms/step - loss: 3.9383 - AgeOut_loss: 3.8125 - GenOut_loss: 0.1258 - AgeOut_accuracy: 0.0000e+00 - GenOut_accuracy: 0.0491 - val_loss: 6.4601 - val_AgeOut_loss: 6.1678 - val_GenOut_loss: 0.2923 - val_AgeOut_accuracy: 0.0000e+00 - val_GenOut_accuracy: 0.0141\n",
            "Epoch 100/250\n",
            "297/297 [==============================] - 3s 10ms/step - loss: 3.8917 - AgeOut_loss: 3.7764 - GenOut_loss: 0.1153 - AgeOut_accuracy: 0.0000e+00 - GenOut_accuracy: 0.0606 - val_loss: 6.7637 - val_AgeOut_loss: 6.4631 - val_GenOut_loss: 0.3006 - val_AgeOut_accuracy: 0.0000e+00 - val_GenOut_accuracy: 0.0236\n",
            "Epoch 101/250\n",
            "297/297 [==============================] - 3s 10ms/step - loss: 3.9414 - AgeOut_loss: 3.8204 - GenOut_loss: 0.1209 - AgeOut_accuracy: 0.0000e+00 - GenOut_accuracy: 0.0573 - val_loss: 6.9488 - val_AgeOut_loss: 6.6401 - val_GenOut_loss: 0.3087 - val_AgeOut_accuracy: 0.0000e+00 - val_GenOut_accuracy: 0.0350\n",
            "Epoch 102/250\n",
            "297/297 [==============================] - 3s 10ms/step - loss: 3.8849 - AgeOut_loss: 3.7644 - GenOut_loss: 0.1205 - AgeOut_accuracy: 0.0000e+00 - GenOut_accuracy: 0.0528 - val_loss: 6.5673 - val_AgeOut_loss: 6.2561 - val_GenOut_loss: 0.3112 - val_AgeOut_accuracy: 0.0000e+00 - val_GenOut_accuracy: 0.0251\n",
            "Epoch 103/250\n",
            "297/297 [==============================] - 3s 10ms/step - loss: 3.9200 - AgeOut_loss: 3.7996 - GenOut_loss: 0.1204 - AgeOut_accuracy: 0.0000e+00 - GenOut_accuracy: 0.0594 - val_loss: 6.5982 - val_AgeOut_loss: 6.2555 - val_GenOut_loss: 0.3427 - val_AgeOut_accuracy: 0.0000e+00 - val_GenOut_accuracy: 0.0534\n",
            "Epoch 104/250\n",
            "297/297 [==============================] - 3s 10ms/step - loss: 3.9063 - AgeOut_loss: 3.7911 - GenOut_loss: 0.1152 - AgeOut_accuracy: 0.0000e+00 - GenOut_accuracy: 0.0635 - val_loss: 6.5244 - val_AgeOut_loss: 6.1977 - val_GenOut_loss: 0.3267 - val_AgeOut_accuracy: 0.0000e+00 - val_GenOut_accuracy: 0.0403\n",
            "Epoch 105/250\n",
            "297/297 [==============================] - 3s 10ms/step - loss: 3.9176 - AgeOut_loss: 3.8021 - GenOut_loss: 0.1155 - AgeOut_accuracy: 0.0000e+00 - GenOut_accuracy: 0.0684 - val_loss: 6.9389 - val_AgeOut_loss: 6.6150 - val_GenOut_loss: 0.3239 - val_AgeOut_accuracy: 0.0000e+00 - val_GenOut_accuracy: 0.0443\n",
            "Epoch 106/250\n",
            "297/297 [==============================] - 3s 10ms/step - loss: 3.8996 - AgeOut_loss: 3.7817 - GenOut_loss: 0.1179 - AgeOut_accuracy: 0.0000e+00 - GenOut_accuracy: 0.0661 - val_loss: 6.5986 - val_AgeOut_loss: 6.2757 - val_GenOut_loss: 0.3229 - val_AgeOut_accuracy: 0.0000e+00 - val_GenOut_accuracy: 0.0371\n",
            "Epoch 107/250\n",
            "297/297 [==============================] - 3s 10ms/step - loss: 3.8855 - AgeOut_loss: 3.7687 - GenOut_loss: 0.1168 - AgeOut_accuracy: 0.0000e+00 - GenOut_accuracy: 0.0707 - val_loss: 6.6802 - val_AgeOut_loss: 6.3479 - val_GenOut_loss: 0.3323 - val_AgeOut_accuracy: 0.0000e+00 - val_GenOut_accuracy: 0.0390\n",
            "Epoch 108/250\n",
            "297/297 [==============================] - 3s 10ms/step - loss: 4.0065 - AgeOut_loss: 3.8886 - GenOut_loss: 0.1179 - AgeOut_accuracy: 0.0000e+00 - GenOut_accuracy: 0.0606 - val_loss: 6.7119 - val_AgeOut_loss: 6.4013 - val_GenOut_loss: 0.3106 - val_AgeOut_accuracy: 0.0000e+00 - val_GenOut_accuracy: 0.0255\n",
            "Epoch 109/250\n",
            "297/297 [==============================] - 3s 10ms/step - loss: 3.8686 - AgeOut_loss: 3.7544 - GenOut_loss: 0.1142 - AgeOut_accuracy: 0.0000e+00 - GenOut_accuracy: 0.0678 - val_loss: 6.6891 - val_AgeOut_loss: 6.3505 - val_GenOut_loss: 0.3385 - val_AgeOut_accuracy: 0.0000e+00 - val_GenOut_accuracy: 0.0607\n",
            "Epoch 110/250\n",
            "297/297 [==============================] - 3s 10ms/step - loss: 3.9077 - AgeOut_loss: 3.7927 - GenOut_loss: 0.1150 - AgeOut_accuracy: 0.0000e+00 - GenOut_accuracy: 0.0733 - val_loss: 6.5529 - val_AgeOut_loss: 6.2234 - val_GenOut_loss: 0.3296 - val_AgeOut_accuracy: 0.0000e+00 - val_GenOut_accuracy: 0.0456\n",
            "Epoch 111/250\n",
            "297/297 [==============================] - 3s 11ms/step - loss: 3.9642 - AgeOut_loss: 3.8437 - GenOut_loss: 0.1205 - AgeOut_accuracy: 0.0000e+00 - GenOut_accuracy: 0.0624 - val_loss: 6.7682 - val_AgeOut_loss: 6.4302 - val_GenOut_loss: 0.3380 - val_AgeOut_accuracy: 0.0000e+00 - val_GenOut_accuracy: 0.0512\n",
            "Epoch 112/250\n",
            "297/297 [==============================] - 3s 10ms/step - loss: 3.9171 - AgeOut_loss: 3.8023 - GenOut_loss: 0.1148 - AgeOut_accuracy: 0.0000e+00 - GenOut_accuracy: 0.0672 - val_loss: 6.5941 - val_AgeOut_loss: 6.2800 - val_GenOut_loss: 0.3141 - val_AgeOut_accuracy: 0.0000e+00 - val_GenOut_accuracy: 0.0437\n",
            "Epoch 113/250\n",
            "297/297 [==============================] - 3s 10ms/step - loss: 3.8706 - AgeOut_loss: 3.7471 - GenOut_loss: 0.1235 - AgeOut_accuracy: 0.0000e+00 - GenOut_accuracy: 0.0657 - val_loss: 7.8551 - val_AgeOut_loss: 7.5164 - val_GenOut_loss: 0.3386 - val_AgeOut_accuracy: 0.0000e+00 - val_GenOut_accuracy: 0.0542\n",
            "Epoch 114/250\n",
            "297/297 [==============================] - 3s 10ms/step - loss: 3.9274 - AgeOut_loss: 3.8140 - GenOut_loss: 0.1134 - AgeOut_accuracy: 0.0000e+00 - GenOut_accuracy: 0.0680 - val_loss: 6.8787 - val_AgeOut_loss: 6.5705 - val_GenOut_loss: 0.3082 - val_AgeOut_accuracy: 0.0000e+00 - val_GenOut_accuracy: 0.0314\n",
            "Epoch 115/250\n",
            "297/297 [==============================] - 3s 10ms/step - loss: 3.8719 - AgeOut_loss: 3.7587 - GenOut_loss: 0.1133 - AgeOut_accuracy: 0.0000e+00 - GenOut_accuracy: 0.0695 - val_loss: 6.7656 - val_AgeOut_loss: 6.4480 - val_GenOut_loss: 0.3176 - val_AgeOut_accuracy: 0.0000e+00 - val_GenOut_accuracy: 0.0508\n",
            "Epoch 116/250\n",
            "297/297 [==============================] - 3s 10ms/step - loss: 3.8710 - AgeOut_loss: 3.7598 - GenOut_loss: 0.1112 - AgeOut_accuracy: 0.0000e+00 - GenOut_accuracy: 0.0749 - val_loss: 6.5761 - val_AgeOut_loss: 6.2483 - val_GenOut_loss: 0.3279 - val_AgeOut_accuracy: 0.0000e+00 - val_GenOut_accuracy: 0.0590\n",
            "Epoch 117/250\n",
            "297/297 [==============================] - 3s 11ms/step - loss: 3.8653 - AgeOut_loss: 3.7575 - GenOut_loss: 0.1078 - AgeOut_accuracy: 0.0000e+00 - GenOut_accuracy: 0.0839 - val_loss: 6.6355 - val_AgeOut_loss: 6.3013 - val_GenOut_loss: 0.3342 - val_AgeOut_accuracy: 0.0000e+00 - val_GenOut_accuracy: 0.0565\n",
            "Epoch 118/250\n",
            "297/297 [==============================] - 3s 10ms/step - loss: 3.8421 - AgeOut_loss: 3.7310 - GenOut_loss: 0.1111 - AgeOut_accuracy: 0.0000e+00 - GenOut_accuracy: 0.0757 - val_loss: 6.7756 - val_AgeOut_loss: 6.4457 - val_GenOut_loss: 0.3299 - val_AgeOut_accuracy: 0.0000e+00 - val_GenOut_accuracy: 0.0437\n",
            "Epoch 119/250\n",
            "297/297 [==============================] - 3s 10ms/step - loss: 3.8260 - AgeOut_loss: 3.7146 - GenOut_loss: 0.1114 - AgeOut_accuracy: 0.0000e+00 - GenOut_accuracy: 0.0762 - val_loss: 6.5555 - val_AgeOut_loss: 6.2302 - val_GenOut_loss: 0.3253 - val_AgeOut_accuracy: 0.0000e+00 - val_GenOut_accuracy: 0.0508\n",
            "Epoch 120/250\n",
            "297/297 [==============================] - 3s 10ms/step - loss: 3.8462 - AgeOut_loss: 3.7335 - GenOut_loss: 0.1128 - AgeOut_accuracy: 0.0000e+00 - GenOut_accuracy: 0.0746 - val_loss: 6.8688 - val_AgeOut_loss: 6.5135 - val_GenOut_loss: 0.3553 - val_AgeOut_accuracy: 0.0000e+00 - val_GenOut_accuracy: 0.0681\n",
            "Epoch 121/250\n",
            "297/297 [==============================] - 3s 10ms/step - loss: 3.8504 - AgeOut_loss: 3.7391 - GenOut_loss: 0.1112 - AgeOut_accuracy: 0.0000e+00 - GenOut_accuracy: 0.0697 - val_loss: 6.7494 - val_AgeOut_loss: 6.4151 - val_GenOut_loss: 0.3343 - val_AgeOut_accuracy: 0.0000e+00 - val_GenOut_accuracy: 0.0485\n",
            "Epoch 122/250\n",
            "297/297 [==============================] - 3s 10ms/step - loss: 3.8042 - AgeOut_loss: 3.6908 - GenOut_loss: 0.1133 - AgeOut_accuracy: 0.0000e+00 - GenOut_accuracy: 0.0763 - val_loss: 6.7410 - val_AgeOut_loss: 6.4369 - val_GenOut_loss: 0.3042 - val_AgeOut_accuracy: 0.0000e+00 - val_GenOut_accuracy: 0.0335\n",
            "Epoch 123/250\n",
            "297/297 [==============================] - 3s 11ms/step - loss: 3.8038 - AgeOut_loss: 3.6930 - GenOut_loss: 0.1109 - AgeOut_accuracy: 0.0000e+00 - GenOut_accuracy: 0.0727 - val_loss: 6.8206 - val_AgeOut_loss: 6.5061 - val_GenOut_loss: 0.3145 - val_AgeOut_accuracy: 0.0000e+00 - val_GenOut_accuracy: 0.0327\n",
            "Epoch 124/250\n",
            "297/297 [==============================] - 3s 10ms/step - loss: 3.8865 - AgeOut_loss: 3.7757 - GenOut_loss: 0.1108 - AgeOut_accuracy: 0.0000e+00 - GenOut_accuracy: 0.0640 - val_loss: 7.4738 - val_AgeOut_loss: 7.1559 - val_GenOut_loss: 0.3179 - val_AgeOut_accuracy: 0.0000e+00 - val_GenOut_accuracy: 0.0350\n",
            "Epoch 125/250\n",
            "297/297 [==============================] - 3s 10ms/step - loss: 3.8344 - AgeOut_loss: 3.7218 - GenOut_loss: 0.1126 - AgeOut_accuracy: 0.0000e+00 - GenOut_accuracy: 0.0681 - val_loss: 7.0746 - val_AgeOut_loss: 6.7665 - val_GenOut_loss: 0.3081 - val_AgeOut_accuracy: 0.0000e+00 - val_GenOut_accuracy: 0.0329\n",
            "Epoch 126/250\n",
            "297/297 [==============================] - 3s 10ms/step - loss: 3.8199 - AgeOut_loss: 3.7103 - GenOut_loss: 0.1096 - AgeOut_accuracy: 0.0000e+00 - GenOut_accuracy: 0.0823 - val_loss: 6.7707 - val_AgeOut_loss: 6.4543 - val_GenOut_loss: 0.3164 - val_AgeOut_accuracy: 0.0000e+00 - val_GenOut_accuracy: 0.0447\n",
            "Epoch 127/250\n",
            "297/297 [==============================] - 3s 10ms/step - loss: 3.8133 - AgeOut_loss: 3.7027 - GenOut_loss: 0.1106 - AgeOut_accuracy: 0.0000e+00 - GenOut_accuracy: 0.0766 - val_loss: 6.5336 - val_AgeOut_loss: 6.2000 - val_GenOut_loss: 0.3336 - val_AgeOut_accuracy: 0.0000e+00 - val_GenOut_accuracy: 0.0451\n",
            "Epoch 128/250\n",
            "297/297 [==============================] - 3s 10ms/step - loss: 3.8018 - AgeOut_loss: 3.6969 - GenOut_loss: 0.1050 - AgeOut_accuracy: 0.0000e+00 - GenOut_accuracy: 0.0854 - val_loss: 7.0816 - val_AgeOut_loss: 6.7511 - val_GenOut_loss: 0.3305 - val_AgeOut_accuracy: 0.0000e+00 - val_GenOut_accuracy: 0.0626\n",
            "Epoch 129/250\n",
            "297/297 [==============================] - 3s 10ms/step - loss: 3.8257 - AgeOut_loss: 3.7202 - GenOut_loss: 0.1055 - AgeOut_accuracy: 0.0000e+00 - GenOut_accuracy: 0.0863 - val_loss: 6.6040 - val_AgeOut_loss: 6.2718 - val_GenOut_loss: 0.3322 - val_AgeOut_accuracy: 0.0000e+00 - val_GenOut_accuracy: 0.0662\n",
            "Epoch 130/250\n",
            "297/297 [==============================] - 3s 10ms/step - loss: 3.8326 - AgeOut_loss: 3.7231 - GenOut_loss: 0.1095 - AgeOut_accuracy: 0.0000e+00 - GenOut_accuracy: 0.0831 - val_loss: 6.4739 - val_AgeOut_loss: 6.1156 - val_GenOut_loss: 0.3583 - val_AgeOut_accuracy: 0.0000e+00 - val_GenOut_accuracy: 0.0719\n",
            "Epoch 131/250\n",
            "297/297 [==============================] - 3s 11ms/step - loss: 3.7754 - AgeOut_loss: 3.6697 - GenOut_loss: 0.1058 - AgeOut_accuracy: 0.0000e+00 - GenOut_accuracy: 0.0798 - val_loss: 6.6999 - val_AgeOut_loss: 6.3624 - val_GenOut_loss: 0.3375 - val_AgeOut_accuracy: 0.0000e+00 - val_GenOut_accuracy: 0.0694\n",
            "Epoch 132/250\n",
            "297/297 [==============================] - 3s 10ms/step - loss: 3.8032 - AgeOut_loss: 3.6920 - GenOut_loss: 0.1113 - AgeOut_accuracy: 0.0000e+00 - GenOut_accuracy: 0.0782 - val_loss: 6.5592 - val_AgeOut_loss: 6.2369 - val_GenOut_loss: 0.3223 - val_AgeOut_accuracy: 0.0000e+00 - val_GenOut_accuracy: 0.0536\n",
            "Epoch 133/250\n",
            "297/297 [==============================] - 3s 10ms/step - loss: 3.8352 - AgeOut_loss: 3.7303 - GenOut_loss: 0.1049 - AgeOut_accuracy: 0.0000e+00 - GenOut_accuracy: 0.0806 - val_loss: 6.7146 - val_AgeOut_loss: 6.3761 - val_GenOut_loss: 0.3385 - val_AgeOut_accuracy: 0.0000e+00 - val_GenOut_accuracy: 0.0776\n",
            "Epoch 134/250\n",
            "297/297 [==============================] - 3s 10ms/step - loss: 3.7851 - AgeOut_loss: 3.6766 - GenOut_loss: 0.1085 - AgeOut_accuracy: 0.0000e+00 - GenOut_accuracy: 0.0808 - val_loss: 6.6478 - val_AgeOut_loss: 6.3047 - val_GenOut_loss: 0.3431 - val_AgeOut_accuracy: 0.0000e+00 - val_GenOut_accuracy: 0.0765\n",
            "Epoch 135/250\n",
            "297/297 [==============================] - 3s 10ms/step - loss: 3.7997 - AgeOut_loss: 3.6918 - GenOut_loss: 0.1079 - AgeOut_accuracy: 0.0000e+00 - GenOut_accuracy: 0.0804 - val_loss: 6.5579 - val_AgeOut_loss: 6.2435 - val_GenOut_loss: 0.3144 - val_AgeOut_accuracy: 0.0000e+00 - val_GenOut_accuracy: 0.0489\n",
            "Epoch 136/250\n",
            "297/297 [==============================] - 3s 10ms/step - loss: 3.8488 - AgeOut_loss: 3.7453 - GenOut_loss: 0.1035 - AgeOut_accuracy: 0.0000e+00 - GenOut_accuracy: 0.0687 - val_loss: 6.5873 - val_AgeOut_loss: 6.2458 - val_GenOut_loss: 0.3415 - val_AgeOut_accuracy: 0.0000e+00 - val_GenOut_accuracy: 0.0593\n",
            "Epoch 137/250\n",
            "297/297 [==============================] - 3s 11ms/step - loss: 3.7816 - AgeOut_loss: 3.6720 - GenOut_loss: 0.1096 - AgeOut_accuracy: 0.0000e+00 - GenOut_accuracy: 0.0724 - val_loss: 6.5123 - val_AgeOut_loss: 6.1927 - val_GenOut_loss: 0.3195 - val_AgeOut_accuracy: 0.0000e+00 - val_GenOut_accuracy: 0.0259\n",
            "Epoch 138/250\n",
            "297/297 [==============================] - 3s 11ms/step - loss: 3.7626 - AgeOut_loss: 3.6550 - GenOut_loss: 0.1076 - AgeOut_accuracy: 0.0000e+00 - GenOut_accuracy: 0.0691 - val_loss: 6.6166 - val_AgeOut_loss: 6.3049 - val_GenOut_loss: 0.3117 - val_AgeOut_accuracy: 0.0000e+00 - val_GenOut_accuracy: 0.0472\n",
            "Epoch 139/250\n",
            "297/297 [==============================] - 3s 11ms/step - loss: 3.7617 - AgeOut_loss: 3.6560 - GenOut_loss: 0.1056 - AgeOut_accuracy: 0.0000e+00 - GenOut_accuracy: 0.0715 - val_loss: 6.8832 - val_AgeOut_loss: 6.5632 - val_GenOut_loss: 0.3200 - val_AgeOut_accuracy: 0.0000e+00 - val_GenOut_accuracy: 0.0441\n",
            "Epoch 140/250\n",
            "297/297 [==============================] - 3s 11ms/step - loss: 3.8100 - AgeOut_loss: 3.7056 - GenOut_loss: 0.1044 - AgeOut_accuracy: 0.0000e+00 - GenOut_accuracy: 0.0770 - val_loss: 6.9686 - val_AgeOut_loss: 6.6380 - val_GenOut_loss: 0.3306 - val_AgeOut_accuracy: 0.0000e+00 - val_GenOut_accuracy: 0.0555\n",
            "Epoch 141/250\n",
            "297/297 [==============================] - 3s 11ms/step - loss: 3.7957 - AgeOut_loss: 3.6913 - GenOut_loss: 0.1045 - AgeOut_accuracy: 0.0000e+00 - GenOut_accuracy: 0.0813 - val_loss: 6.5662 - val_AgeOut_loss: 6.2375 - val_GenOut_loss: 0.3287 - val_AgeOut_accuracy: 0.0000e+00 - val_GenOut_accuracy: 0.0458\n",
            "Epoch 142/250\n",
            "297/297 [==============================] - 3s 10ms/step - loss: 3.8006 - AgeOut_loss: 3.6965 - GenOut_loss: 0.1041 - AgeOut_accuracy: 0.0000e+00 - GenOut_accuracy: 0.0866 - val_loss: 6.5207 - val_AgeOut_loss: 6.1800 - val_GenOut_loss: 0.3407 - val_AgeOut_accuracy: 0.0000e+00 - val_GenOut_accuracy: 0.0580\n",
            "Epoch 143/250\n",
            "297/297 [==============================] - 3s 11ms/step - loss: 3.7793 - AgeOut_loss: 3.6762 - GenOut_loss: 0.1031 - AgeOut_accuracy: 0.0000e+00 - GenOut_accuracy: 0.0961 - val_loss: 6.9461 - val_AgeOut_loss: 6.5704 - val_GenOut_loss: 0.3757 - val_AgeOut_accuracy: 0.0000e+00 - val_GenOut_accuracy: 0.1048\n",
            "Epoch 144/250\n",
            "297/297 [==============================] - 3s 11ms/step - loss: 3.7806 - AgeOut_loss: 3.6737 - GenOut_loss: 0.1069 - AgeOut_accuracy: 0.0000e+00 - GenOut_accuracy: 0.0954 - val_loss: 6.6590 - val_AgeOut_loss: 6.3303 - val_GenOut_loss: 0.3287 - val_AgeOut_accuracy: 0.0000e+00 - val_GenOut_accuracy: 0.0612\n",
            "Epoch 145/250\n",
            "297/297 [==============================] - 3s 10ms/step - loss: 3.7674 - AgeOut_loss: 3.6612 - GenOut_loss: 0.1062 - AgeOut_accuracy: 0.0000e+00 - GenOut_accuracy: 0.0829 - val_loss: 6.6612 - val_AgeOut_loss: 6.3101 - val_GenOut_loss: 0.3511 - val_AgeOut_accuracy: 0.0000e+00 - val_GenOut_accuracy: 0.0352\n",
            "Epoch 146/250\n",
            "297/297 [==============================] - 3s 11ms/step - loss: 3.7559 - AgeOut_loss: 3.6469 - GenOut_loss: 0.1090 - AgeOut_accuracy: 0.0000e+00 - GenOut_accuracy: 0.0863 - val_loss: 6.6668 - val_AgeOut_loss: 6.3308 - val_GenOut_loss: 0.3360 - val_AgeOut_accuracy: 0.0000e+00 - val_GenOut_accuracy: 0.0713\n",
            "Epoch 147/250\n",
            "297/297 [==============================] - 3s 10ms/step - loss: 3.7727 - AgeOut_loss: 3.6709 - GenOut_loss: 0.1018 - AgeOut_accuracy: 0.0000e+00 - GenOut_accuracy: 0.0884 - val_loss: 6.6250 - val_AgeOut_loss: 6.2667 - val_GenOut_loss: 0.3583 - val_AgeOut_accuracy: 0.0000e+00 - val_GenOut_accuracy: 0.0955\n",
            "Epoch 148/250\n",
            "297/297 [==============================] - 3s 11ms/step - loss: 3.7896 - AgeOut_loss: 3.6813 - GenOut_loss: 0.1082 - AgeOut_accuracy: 0.0000e+00 - GenOut_accuracy: 0.0863 - val_loss: 6.8214 - val_AgeOut_loss: 6.5057 - val_GenOut_loss: 0.3157 - val_AgeOut_accuracy: 0.0000e+00 - val_GenOut_accuracy: 0.0584\n",
            "Epoch 149/250\n",
            "297/297 [==============================] - 3s 10ms/step - loss: 3.7175 - AgeOut_loss: 3.6102 - GenOut_loss: 0.1073 - AgeOut_accuracy: 0.0000e+00 - GenOut_accuracy: 0.0780 - val_loss: 6.7195 - val_AgeOut_loss: 6.3930 - val_GenOut_loss: 0.3265 - val_AgeOut_accuracy: 0.0000e+00 - val_GenOut_accuracy: 0.0578\n",
            "Epoch 150/250\n",
            "297/297 [==============================] - 3s 11ms/step - loss: 3.7687 - AgeOut_loss: 3.6663 - GenOut_loss: 0.1024 - AgeOut_accuracy: 0.0000e+00 - GenOut_accuracy: 0.0850 - val_loss: 6.5932 - val_AgeOut_loss: 6.2580 - val_GenOut_loss: 0.3353 - val_AgeOut_accuracy: 0.0000e+00 - val_GenOut_accuracy: 0.0749\n",
            "Epoch 151/250\n",
            "297/297 [==============================] - 3s 11ms/step - loss: 3.8229 - AgeOut_loss: 3.7139 - GenOut_loss: 0.1090 - AgeOut_accuracy: 0.0000e+00 - GenOut_accuracy: 0.0725 - val_loss: 6.6575 - val_AgeOut_loss: 6.3476 - val_GenOut_loss: 0.3099 - val_AgeOut_accuracy: 0.0000e+00 - val_GenOut_accuracy: 0.0449\n",
            "Epoch 152/250\n",
            "297/297 [==============================] - 3s 10ms/step - loss: 3.7301 - AgeOut_loss: 3.6277 - GenOut_loss: 0.1024 - AgeOut_accuracy: 0.0000e+00 - GenOut_accuracy: 0.0771 - val_loss: 6.6179 - val_AgeOut_loss: 6.2962 - val_GenOut_loss: 0.3218 - val_AgeOut_accuracy: 0.0000e+00 - val_GenOut_accuracy: 0.0384\n",
            "Epoch 153/250\n",
            "297/297 [==============================] - 3s 10ms/step - loss: 3.7477 - AgeOut_loss: 3.6432 - GenOut_loss: 0.1045 - AgeOut_accuracy: 0.0000e+00 - GenOut_accuracy: 0.0679 - val_loss: 6.7838 - val_AgeOut_loss: 6.4585 - val_GenOut_loss: 0.3254 - val_AgeOut_accuracy: 0.0000e+00 - val_GenOut_accuracy: 0.0441\n",
            "Epoch 154/250\n",
            "297/297 [==============================] - 3s 11ms/step - loss: 3.7212 - AgeOut_loss: 3.6171 - GenOut_loss: 0.1041 - AgeOut_accuracy: 0.0000e+00 - GenOut_accuracy: 0.0806 - val_loss: 6.5640 - val_AgeOut_loss: 6.2200 - val_GenOut_loss: 0.3440 - val_AgeOut_accuracy: 0.0000e+00 - val_GenOut_accuracy: 0.0536\n",
            "Epoch 155/250\n",
            "297/297 [==============================] - 3s 10ms/step - loss: 3.7317 - AgeOut_loss: 3.6329 - GenOut_loss: 0.0988 - AgeOut_accuracy: 0.0000e+00 - GenOut_accuracy: 0.0959 - val_loss: 6.6190 - val_AgeOut_loss: 6.2588 - val_GenOut_loss: 0.3602 - val_AgeOut_accuracy: 0.0000e+00 - val_GenOut_accuracy: 0.0628\n",
            "Epoch 156/250\n",
            "297/297 [==============================] - 3s 10ms/step - loss: 3.7186 - AgeOut_loss: 3.6113 - GenOut_loss: 0.1073 - AgeOut_accuracy: 0.0000e+00 - GenOut_accuracy: 0.1038 - val_loss: 6.8917 - val_AgeOut_loss: 6.5561 - val_GenOut_loss: 0.3356 - val_AgeOut_accuracy: 0.0000e+00 - val_GenOut_accuracy: 0.0803\n",
            "Epoch 157/250\n",
            "297/297 [==============================] - 3s 10ms/step - loss: 3.7433 - AgeOut_loss: 3.6446 - GenOut_loss: 0.0987 - AgeOut_accuracy: 0.0000e+00 - GenOut_accuracy: 0.0910 - val_loss: 6.5561 - val_AgeOut_loss: 6.2121 - val_GenOut_loss: 0.3440 - val_AgeOut_accuracy: 0.0000e+00 - val_GenOut_accuracy: 0.0723\n",
            "Epoch 158/250\n",
            "297/297 [==============================] - 3s 10ms/step - loss: 3.7378 - AgeOut_loss: 3.6403 - GenOut_loss: 0.0975 - AgeOut_accuracy: 0.0000e+00 - GenOut_accuracy: 0.1004 - val_loss: 6.8037 - val_AgeOut_loss: 6.4437 - val_GenOut_loss: 0.3600 - val_AgeOut_accuracy: 0.0000e+00 - val_GenOut_accuracy: 0.1099\n",
            "Epoch 159/250\n",
            "297/297 [==============================] - 3s 11ms/step - loss: 3.7441 - AgeOut_loss: 3.6408 - GenOut_loss: 0.1033 - AgeOut_accuracy: 0.0000e+00 - GenOut_accuracy: 0.0933 - val_loss: 6.6984 - val_AgeOut_loss: 6.3351 - val_GenOut_loss: 0.3633 - val_AgeOut_accuracy: 0.0000e+00 - val_GenOut_accuracy: 0.0660\n",
            "Epoch 160/250\n",
            "297/297 [==============================] - 3s 10ms/step - loss: 3.7255 - AgeOut_loss: 3.6213 - GenOut_loss: 0.1042 - AgeOut_accuracy: 0.0000e+00 - GenOut_accuracy: 0.0926 - val_loss: 6.8157 - val_AgeOut_loss: 6.4708 - val_GenOut_loss: 0.3450 - val_AgeOut_accuracy: 0.0000e+00 - val_GenOut_accuracy: 0.0795\n",
            "Epoch 161/250\n",
            "297/297 [==============================] - 3s 10ms/step - loss: 3.7339 - AgeOut_loss: 3.6291 - GenOut_loss: 0.1047 - AgeOut_accuracy: 0.0000e+00 - GenOut_accuracy: 0.0929 - val_loss: 6.5783 - val_AgeOut_loss: 6.2379 - val_GenOut_loss: 0.3404 - val_AgeOut_accuracy: 0.0000e+00 - val_GenOut_accuracy: 0.0774\n",
            "Epoch 162/250\n",
            "297/297 [==============================] - 3s 10ms/step - loss: 3.7441 - AgeOut_loss: 3.6395 - GenOut_loss: 0.1046 - AgeOut_accuracy: 0.0000e+00 - GenOut_accuracy: 0.0881 - val_loss: 6.6263 - val_AgeOut_loss: 6.2864 - val_GenOut_loss: 0.3398 - val_AgeOut_accuracy: 0.0000e+00 - val_GenOut_accuracy: 0.0641\n",
            "Epoch 163/250\n",
            "297/297 [==============================] - 3s 11ms/step - loss: 3.7198 - AgeOut_loss: 3.6187 - GenOut_loss: 0.1011 - AgeOut_accuracy: 0.0000e+00 - GenOut_accuracy: 0.0877 - val_loss: 6.6812 - val_AgeOut_loss: 6.3454 - val_GenOut_loss: 0.3357 - val_AgeOut_accuracy: 0.0000e+00 - val_GenOut_accuracy: 0.0645\n",
            "Epoch 164/250\n",
            "297/297 [==============================] - 3s 11ms/step - loss: 3.6909 - AgeOut_loss: 3.5908 - GenOut_loss: 0.1001 - AgeOut_accuracy: 0.0000e+00 - GenOut_accuracy: 0.0936 - val_loss: 6.4934 - val_AgeOut_loss: 6.1466 - val_GenOut_loss: 0.3468 - val_AgeOut_accuracy: 0.0000e+00 - val_GenOut_accuracy: 0.0768\n"
          ],
          "name": "stdout"
        }
      ]
    },
    {
      "cell_type": "markdown",
      "metadata": {
        "id": "BTcRWBoPu3H6"
      },
      "source": [
        "### Evaluating model"
      ]
    },
    {
      "cell_type": "code",
      "metadata": {
        "colab": {
          "base_uri": "https://localhost:8080/"
        },
        "id": "gFB5heTrET8n",
        "outputId": "257641ff-343a-4027-be5a-97795c47f787"
      },
      "source": [
        "model.evaluate(xTest, yTest)"
      ],
      "execution_count": 18,
      "outputs": [
        {
          "output_type": "stream",
          "text": [
            "149/149 [==============================] - 1s 4ms/step - loss: 6.4438 - AgeOut_loss: 6.1443 - GenOut_loss: 0.2995 - AgeOut_accuracy: 0.0000e+00 - GenOut_accuracy: 0.0236\n"
          ],
          "name": "stdout"
        },
        {
          "output_type": "execute_result",
          "data": {
            "text/plain": [
              "[6.443793296813965,\n",
              " 6.144321918487549,\n",
              " 0.29947108030319214,\n",
              " 0.0,\n",
              " 0.023618726059794426]"
            ]
          },
          "metadata": {
            "tags": []
          },
          "execution_count": 18
        }
      ]
    },
    {
      "cell_type": "markdown",
      "metadata": {
        "id": "bxW3qJN_u6mp"
      },
      "source": [
        "## Predicting test images"
      ]
    },
    {
      "cell_type": "code",
      "metadata": {
        "id": "kYMZ8wRivUyo"
      },
      "source": [
        "model = load_model(\"Detection.h5\")"
      ],
      "execution_count": 19,
      "outputs": []
    },
    {
      "cell_type": "code",
      "metadata": {
        "id": "qKjIe7eEHYhf"
      },
      "source": [
        "pred = model.predict(xTest)\n",
        "predFinal = []\n",
        "\n",
        "for i in range(len(pred[0])):\n",
        "    predFinal.append(int(np.round(pred[0][i])))"
      ],
      "execution_count": 20,
      "outputs": []
    },
    {
      "cell_type": "code",
      "metadata": {
        "id": "Q-dDJ2tTJGpj"
      },
      "source": [
        "with open('imagesBGR.npy', 'rb') as f:\n",
        "    origImages = np.load(f, allow_pickle=True)"
      ],
      "execution_count": 21,
      "outputs": []
    },
    {
      "cell_type": "code",
      "metadata": {
        "id": "S-Wax6E3Hx3v"
      },
      "source": [
        "def predictImage(index):\n",
        "    cv2_imshow(origImages[index])\n",
        "    predIm = model.predict(np.array([images[index]]))\n",
        "    \n",
        "    g = \"Male\" if int(np.round(predIm[1][0])) == 0 else \"Female\"\n",
        "    print(f\"Predicted Age: {int(np.round(predIm[0][0]))} Gender: {g}\")\n",
        "    g = \"Male\" if gender[index] == 0 else \"Female\"\n",
        "    print(f\"Actual Age: {age[index]} Gender: {g}\")"
      ],
      "execution_count": 22,
      "outputs": []
    },
    {
      "cell_type": "code",
      "metadata": {
        "colab": {
          "base_uri": "https://localhost:8080/",
          "height": 98
        },
        "id": "VumpApkzIrE9",
        "outputId": "2119cb5a-50af-4bd9-fd2d-9ce80ed75cd2"
      },
      "source": [
        "predictImage(randint(0, len(dataFiles)))"
      ],
      "execution_count": 24,
      "outputs": [
        {
          "output_type": "display_data",
          "data": {
            "image/png": "[encoded data removed]",
            "text/plain": [
              "<PIL.Image.Image image mode=RGB size=48x48 at 0x7F6E5816BDD0>"
            ]
          },
          "metadata": {
            "tags": []
          }
        },
        {
          "output_type": "stream",
          "text": [
            "Predicted Age: 22 Gender: Female\n",
            "Actual Age: 23.0 Gender: Female\n"
          ],
          "name": "stdout"
        }
      ]
    }
  ]
}