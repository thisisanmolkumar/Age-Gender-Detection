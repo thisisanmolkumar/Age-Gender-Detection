{
  "nbformat": 4,
  "nbformat_minor": 0,
  "metadata": {
    "colab": {
      "name": "Detection",
      "provenance": [],
      "collapsed_sections": [
        "Uv2zZ1BZ5wV3",
        "R6pVfT7qbRpi"
      ]
    },
    "kernelspec": {
      "name": "python3",
      "display_name": "Python 3"
    },
    "language_info": {
      "name": "python"
    },
    "accelerator": "GPU"
  },
  "cells": [
    {
      "cell_type": "markdown",
      "metadata": {
        "id": "Q2Yr5A5b4SKx"
      },
      "source": [
        "# Gender and Age Detection"
      ]
    },
    {
      "cell_type": "code",
      "metadata": {
        "colab": {
          "base_uri": "https://localhost:8080/"
        },
        "id": "3FVP-nY4aLOY",
        "outputId": "8efaf758-6479-486d-dc95-c59887cdf5df"
      },
      "source": [
        "%cd /content/drive/MyDrive/Colab/GenderAgeDetection\n",
        "!ls"
      ],
      "execution_count": null,
      "outputs": [
        {
          "output_type": "stream",
          "text": [
            "/content/drive/MyDrive/Colab/GenderAgeDetection\n",
            "age.npy     Detection.h5     imagesBGR.npy  UTKFace\n",
            "crop_part1  Detection.ipynb  images.npy     utkface_aligned_cropped\n",
            "Data\t    gender.npy\t     kaggle.json\n"
          ],
          "name": "stdout"
        }
      ]
    },
    {
      "cell_type": "markdown",
      "metadata": {
        "id": "iIdw_8-v5tze"
      },
      "source": [
        "## Importing libraries"
      ]
    },
    {
      "cell_type": "code",
      "metadata": {
        "id": "JLAXNcuZ5qWA"
      },
      "source": [
        "import os\n",
        "import cv2\n",
        "import numpy as np\n",
        "import IPython\n",
        "from time import time\n",
        "from google.colab.patches import cv2_imshow\n",
        "from random import randint\n",
        "import matplotlib.pyplot as plt\n",
        "from sklearn.model_selection import train_test_split\n",
        "from keras.models import Model, load_model\n",
        "from keras.layers import Input, Conv2D, MaxPooling2D, Dropout, Flatten, Dense\n",
        "from keras.callbacks import ModelCheckpoint, EarlyStopping"
      ],
      "execution_count": null,
      "outputs": []
    },
    {
      "cell_type": "markdown",
      "metadata": {
        "id": "Uv2zZ1BZ5wV3"
      },
      "source": [
        "## Downloading Data from Kaggle"
      ]
    },
    {
      "cell_type": "code",
      "metadata": {
        "colab": {
          "base_uri": "https://localhost:8080/"
        },
        "id": "7Lo8xoCEasoc",
        "outputId": "a402ab0e-919c-443f-d107-446f5a64981a"
      },
      "source": [
        "os.environ['KAGGLE_CONFIG_DIR'] = \"/content/drive/MyDrive/Colab/GenderAgeDetection\"\n",
        "\n",
        "# Downloading UTKFace Data using kaggle API\n",
        "!kaggle datasets download -d jangedoo/utkface-new\n",
        "!ls\n",
        "!unzip \\*.zip && rm *.zip\n",
        "\n",
        "# !rm -rf crop_part1 utkface_aligned_cropped"
      ],
      "execution_count": null,
      "outputs": [
        {
          "output_type": "stream",
          "text": [
            "Downloading utkface-new.zip to /content/drive/My Drive/Colab/GenderAgeDetection\n",
            " 99% 329M/331M [00:05<00:00, 39.3MB/s]\n",
            "100% 331M/331M [00:05<00:00, 62.0MB/s]\n",
            "Detection.ipynb  kaggle.json  utkface-new.zip\n"
          ],
          "name": "stdout"
        }
      ]
    },
    {
      "cell_type": "code",
      "metadata": {
        "id": "KWgJYunBa52w"
      },
      "source": [
        "!unzip \\*.zip && rm *.zip\n",
        "\n",
        "from IPython.display import clear_output\n",
        "clear_output()"
      ],
      "execution_count": null,
      "outputs": []
    },
    {
      "cell_type": "markdown",
      "metadata": {
        "id": "jgqGViHMAzY8"
      },
      "source": [
        "## Data Exploration and Preparation"
      ]
    },
    {
      "cell_type": "markdown",
      "metadata": {
        "id": "vWvdBOlR44yp"
      },
      "source": [
        "The labels of each face image is embedded in the file name, formated like age_gender_race_date&time.jpg\n",
        "\n",
        "* Age is an integer from 0 to 116\n",
        "* Gender is either 0 (male) or 1 (female)\n",
        "* Race is an integer from 0 to 4, denoting White, Black, Asian, Indian, and Others (like Hispanic, Latino, Middle Eastern)\n",
        "* Date & Time is in the format of yyyymmddHHMMSSFFF"
      ]
    },
    {
      "cell_type": "code",
      "metadata": {
        "id": "cu8Tn2BY2QwW"
      },
      "source": [
        "# Taking UTKFace folder as the main data\n",
        "dataFiles = os.listdir(\"UTKFace\")"
      ],
      "execution_count": null,
      "outputs": []
    },
    {
      "cell_type": "markdown",
      "metadata": {
        "id": "R6pVfT7qbRpi"
      },
      "source": [
        "### Getting Age and gender from the label and loading images resized into shape (48, 48, 3) "
      ]
    },
    {
      "cell_type": "code",
      "metadata": {
        "colab": {
          "base_uri": "https://localhost:8080/",
          "height": 34
        },
        "id": "d8wn-oJC5eq9",
        "outputId": "d5926b74-9b70-48c9-948a-4cb16eb08c92"
      },
      "source": [
        "age = np.zeros(len(dataFiles))\n",
        "gender = np.zeros(len(dataFiles))\n",
        "images = np.zeros((len(dataFiles), 48, 48, 3))\n",
        "\n",
        "out = display(IPython.display.Pretty('Starting..'), display_id=True)\n",
        "\n",
        "for i, files in enumerate(dataFiles):\n",
        "    t = time()\n",
        "    age[i] = int(files.split('_')[0])\n",
        "    gender[i] = int(files.split('_')[1])\n",
        "    dir = \"/content/drive/MyDrive/Colab/GenderAgeDetection/UTKFace/\" + files\n",
        "    images[i] = cv2.resize(cv2.cvtColor(cv2.imread(dir), cv2.COLOR_BGR2RGB), (48, 48))\n",
        "    # images[i] = cv2.resize(cv2.imread(dir), (48, 48))\n",
        "    out.update(IPython.display.Pretty(\"%.2f\"%(i * 100 / len(dataFiles)) + f\"% Time left: {int((((len(dataFiles) - i) * (time() - t)) // 60))} minutes\"))\n",
        "\n",
        "with open('age.npy', 'wb') as f:\n",
        "    np.save(f, age)\n",
        "\n",
        "with open('gender.npy', 'wb') as f:\n",
        "    np.save(f, gender)\n",
        "\n",
        "with open('imagesBGR.npy', 'wb') as f:\n",
        "    np.save(f, images)"
      ],
      "execution_count": null,
      "outputs": [
        {
          "output_type": "display_data",
          "data": {
            "text/plain": [
              "100.00% Time left: 0 minutes"
            ]
          },
          "metadata": {
            "tags": []
          }
        }
      ]
    },
    {
      "cell_type": "markdown",
      "metadata": {
        "id": "KZyJ55eZbgvo"
      },
      "source": [
        "### Loading numpy arrays and visualization"
      ]
    },
    {
      "cell_type": "code",
      "metadata": {
        "id": "Sl0730COa2aD"
      },
      "source": [
        "with open('age.npy', 'rb') as f:\n",
        "    age = np.load(f, allow_pickle=True)\n",
        "\n",
        "with open('gender.npy', 'rb') as f:\n",
        "    gender = np.load(f, allow_pickle=True)\n",
        "\n",
        "with open('images.npy', 'rb') as f:\n",
        "    images = np.load(f, allow_pickle=True)"
      ],
      "execution_count": null,
      "outputs": []
    },
    {
      "cell_type": "code",
      "metadata": {
        "id": "5e-sbrJk71v0"
      },
      "source": [
        "def showImage(n):\n",
        "    g = \"Male\" if gender[n] == 0 else \"Female\"\n",
        "    print(f\"Age: {age[n]} Gender: {g}\")\n",
        "    cv2_imshow(images[n])"
      ],
      "execution_count": null,
      "outputs": []
    },
    {
      "cell_type": "code",
      "metadata": {
        "colab": {
          "base_uri": "https://localhost:8080/",
          "height": 98
        },
        "id": "RUIY3TVM_Pt9",
        "outputId": "fce7538d-5f41-42ed-8413-37b5ada32afa"
      },
      "source": [
        "print(len(dataFiles))\n",
        "showImage(randint(0, len(dataFiles)))"
      ],
      "execution_count": null,
      "outputs": [
        {
          "output_type": "stream",
          "text": [
            "23708\n",
            "Age: 53.0 Gender: Female\n"
          ],
          "name": "stdout"
        },
        {
          "output_type": "display_data",
          "data": {
            "image/png": "[encoded data removed]",
            "text/plain": [
              "<PIL.Image.Image image mode=RGB size=48x48 at 0x7F8D7EFD1810>"
            ]
          },
          "metadata": {
            "tags": []
          }
        }
      ]
    },
    {
      "cell_type": "code",
      "metadata": {
        "id": "uH8y9g0HA6Zg",
        "colab": {
          "base_uri": "https://localhost:8080/"
        },
        "outputId": "8ef68024-d615-45aa-d203-64612d9858bb"
      },
      "source": [
        "print(np.unique(age, return_counts=True))\n",
        "print(np.unique(gender, return_counts=True))"
      ],
      "execution_count": null,
      "outputs": [
        {
          "output_type": "stream",
          "text": [
            "(array([  1.,   2.,   3.,   4.,   5.,   6.,   7.,   8.,   9.,  10.,  11.,\n",
            "        12.,  13.,  14.,  15.,  16.,  17.,  18.,  19.,  20.,  21.,  22.,\n",
            "        23.,  24.,  25.,  26.,  27.,  28.,  29.,  30.,  31.,  32.,  33.,\n",
            "        34.,  35.,  36.,  37.,  38.,  39.,  40.,  41.,  42.,  43.,  44.,\n",
            "        45.,  46.,  47.,  48.,  49.,  50.,  51.,  52.,  53.,  54.,  55.,\n",
            "        56.,  57.,  58.,  59.,  60.,  61.,  62.,  63.,  64.,  65.,  66.,\n",
            "        67.,  68.,  69.,  70.,  71.,  72.,  73.,  74.,  75.,  76.,  77.,\n",
            "        78.,  79.,  80.,  81.,  82.,  83.,  84.,  85.,  86.,  87.,  88.,\n",
            "        89.,  90.,  91.,  92.,  93.,  95.,  96.,  99., 100., 101., 103.,\n",
            "       105., 110., 111., 115., 116.]), array([1123,  482,  289,  273,  196,  131,  139,  263,  166,  156,   65,\n",
            "        130,   81,  157,  177,  247,  158,  262,   98,  284,  346,  395,\n",
            "        426,  859,  734, 2197,  615,  918,  570,  724,  350,  664,  143,\n",
            "        409,  880,  483,  293,  325,  266,  526,  132,  266,  157,  100,\n",
            "        440,  153,  170,  153,  148,  381,  138,  232,  241,  353,  268,\n",
            "        236,   97,  271,   82,  293,  161,  125,  103,   50,  259,   77,\n",
            "         94,  100,   56,  147,   33,   98,   63,   32,  148,   58,   28,\n",
            "         69,   23,  133,   22,   40,   18,   24,  155,   35,   10,   34,\n",
            "         33,   82,    2,   13,    5,    9,   17,    9,   11,    2,    1,\n",
            "          5,    5,    1,    3,    4]))\n",
            "(array([0., 1.]), array([12391, 11317]))\n"
          ],
          "name": "stdout"
        }
      ]
    },
    {
      "cell_type": "code",
      "metadata": {
        "colab": {
          "base_uri": "https://localhost:8080/",
          "height": 279
        },
        "id": "bzd3tj1B6suN",
        "outputId": "f790f804-f3bc-4abc-dc80-a8937d33f818"
      },
      "source": [
        "plt.plot(np.unique(age, return_counts=True)[1])\n",
        "plt.xlabel(\"Age Distribution\")\n",
        "plt.show()"
      ],
      "execution_count": null,
      "outputs": [
        {
          "output_type": "display_data",
          "data": {
            "image/png": "[encoded data removed]",
            "text/plain": [
              "<Figure size 432x288 with 1 Axes>"
            ]
          },
          "metadata": {
            "tags": [],
            "needs_background": "light"
          }
        }
      ]
    },
    {
      "cell_type": "code",
      "metadata": {
        "id": "kVG3ZNll65qD"
      },
      "source": [
        "yData = np.zeros((len(dataFiles), 2, 1))  # Storing Age and Gender labels in a list\n",
        "\n",
        "for i in range(len(dataFiles)):\n",
        "    yData[i][0] = [age[i]]\n",
        "    yData[i][1] = [gender[i]]\n",
        "\n",
        "images = images / 255  # Normalizing image data"
      ],
      "execution_count": null,
      "outputs": []
    },
    {
      "cell_type": "markdown",
      "metadata": {
        "id": "CakB64SM8zl2"
      },
      "source": [
        "### Dividing into Training and Testing data (80:20)"
      ]
    },
    {
      "cell_type": "code",
      "metadata": {
        "colab": {
          "base_uri": "https://localhost:8080/"
        },
        "id": "VvpBiJVK7LJO",
        "outputId": "4d8521ba-7132-48cd-83db-e3377b89b993"
      },
      "source": [
        "# Train Test Split function required same length of x[0] and y[0]\n",
        "xTrain, xTest, yTrain, yTest = train_test_split(images, yData, test_size=0.2)\n",
        "\n",
        "print(xTrain.shape, yTrain.shape)\n",
        "print(yTrain[0:10])\n",
        "\n",
        "# Changing the shape of yTrain and yTest as required by the model\n",
        "yTrain = [yTrain[:, 0], yTrain[:, 1]]\n",
        "yTest = [yTest[:, 0], yTest[:, 1]]\n",
        "# print(yTrain.shape)\n",
        "print(yTrain[0:10])"
      ],
      "execution_count": null,
      "outputs": [
        {
          "output_type": "stream",
          "text": [
            "(18966, 48, 48, 3) (18966, 2, 1)\n",
            "[[[ 3.]\n",
            "  [ 0.]]\n",
            "\n",
            " [[26.]\n",
            "  [ 1.]]\n",
            "\n",
            " [[37.]\n",
            "  [ 0.]]\n",
            "\n",
            " [[43.]\n",
            "  [ 0.]]\n",
            "\n",
            " [[34.]\n",
            "  [ 0.]]\n",
            "\n",
            " [[56.]\n",
            "  [ 1.]]\n",
            "\n",
            " [[71.]\n",
            "  [ 1.]]\n",
            "\n",
            " [[67.]\n",
            "  [ 0.]]\n",
            "\n",
            " [[65.]\n",
            "  [ 0.]]\n",
            "\n",
            " [[55.]\n",
            "  [ 0.]]]\n",
            "[array([[ 3.],\n",
            "       [26.],\n",
            "       [37.],\n",
            "       ...,\n",
            "       [ 1.],\n",
            "       [42.],\n",
            "       [10.]]), array([[0.],\n",
            "       [1.],\n",
            "       [0.],\n",
            "       ...,\n",
            "       [1.],\n",
            "       [0.],\n",
            "       [1.]])]\n"
          ],
          "name": "stdout"
        }
      ]
    },
    {
      "cell_type": "markdown",
      "metadata": {
        "id": "doZFVkOT_7Ih"
      },
      "source": [
        "## Model Building"
      ]
    },
    {
      "cell_type": "code",
      "metadata": {
        "colab": {
          "base_uri": "https://localhost:8080/"
        },
        "id": "jJMh64Xx9Fzk",
        "outputId": "43d9bc07-497b-4d0b-e943-a5d856f95bd6"
      },
      "source": [
        "input = Input((48, 48, 3))\n",
        "\n",
        "conv = Conv2D(32, kernel_size=(3, 3), activation='relu', padding='same')(input)\n",
        "mpool = MaxPooling2D(pool_size=(2, 2))(conv)\n",
        "drop = Dropout(0.1)(mpool)\n",
        "\n",
        "conv = Conv2D(64, kernel_size=(3, 3), activation='relu', padding='same')(drop)\n",
        "mpool = MaxPooling2D(pool_size=(2, 2))(conv)\n",
        "drop = Dropout(0.1)(mpool)\n",
        "\n",
        "conv = Conv2D(128, kernel_size=(3, 3), activation='relu', padding='same')(drop)\n",
        "mpool = MaxPooling2D(pool_size=(2, 2))(conv)\n",
        "drop = Dropout(0.1)(mpool)\n",
        "\n",
        "conv = Conv2D(256, kernel_size=(3, 3), activation='relu', padding='same')(drop)\n",
        "mpool = MaxPooling2D(pool_size=(2, 2))(conv)\n",
        "drop = Dropout(0.1)(mpool)\n",
        "\n",
        "flat = Flatten()(drop)\n",
        "\n",
        "dense1 = Dense(64, activation='relu')(flat)\n",
        "drop1 = Dropout(0.2)(dense1)\n",
        "outAge = Dense(1, activation='relu', name='AgeOut')(drop1)\n",
        "\n",
        "dense2 = Dense(64, activation='relu')(flat)\n",
        "drop2 = Dropout(0.2)(dense2)\n",
        "outGen = Dense(1, activation='sigmoid', name='GenOut')(drop2)\n",
        "\n",
        "model = Model(inputs=[input], outputs=[outAge, outGen])\n",
        "model.compile(loss=['mae', 'binary_crossentropy'], optimizer='Adam', metrics=['Accuracy'])\n",
        "\n",
        "model.summary()"
      ],
      "execution_count": null,
      "outputs": [
        {
          "output_type": "stream",
          "text": [
            "Model: \"model\"\n",
            "__________________________________________________________________________________________________\n",
            "Layer (type)                    Output Shape         Param #     Connected to                     \n",
            "==================================================================================================\n",
            "input_1 (InputLayer)            [(None, 48, 48, 3)]  0                                            \n",
            "__________________________________________________________________________________________________\n",
            "conv2d (Conv2D)                 (None, 48, 48, 32)   896         input_1[0][0]                    \n",
            "__________________________________________________________________________________________________\n",
            "max_pooling2d (MaxPooling2D)    (None, 24, 24, 32)   0           conv2d[0][0]                     \n",
            "__________________________________________________________________________________________________\n",
            "dropout (Dropout)               (None, 24, 24, 32)   0           max_pooling2d[0][0]              \n",
            "__________________________________________________________________________________________________\n",
            "conv2d_1 (Conv2D)               (None, 24, 24, 64)   18496       dropout[0][0]                    \n",
            "__________________________________________________________________________________________________\n",
            "max_pooling2d_1 (MaxPooling2D)  (None, 12, 12, 64)   0           conv2d_1[0][0]                   \n",
            "__________________________________________________________________________________________________\n",
            "dropout_1 (Dropout)             (None, 12, 12, 64)   0           max_pooling2d_1[0][0]            \n",
            "__________________________________________________________________________________________________\n",
            "conv2d_2 (Conv2D)               (None, 12, 12, 128)  73856       dropout_1[0][0]                  \n",
            "__________________________________________________________________________________________________\n",
            "max_pooling2d_2 (MaxPooling2D)  (None, 6, 6, 128)    0           conv2d_2[0][0]                   \n",
            "__________________________________________________________________________________________________\n",
            "dropout_2 (Dropout)             (None, 6, 6, 128)    0           max_pooling2d_2[0][0]            \n",
            "__________________________________________________________________________________________________\n",
            "conv2d_3 (Conv2D)               (None, 6, 6, 256)    295168      dropout_2[0][0]                  \n",
            "__________________________________________________________________________________________________\n",
            "max_pooling2d_3 (MaxPooling2D)  (None, 3, 3, 256)    0           conv2d_3[0][0]                   \n",
            "__________________________________________________________________________________________________\n",
            "dropout_3 (Dropout)             (None, 3, 3, 256)    0           max_pooling2d_3[0][0]            \n",
            "__________________________________________________________________________________________________\n",
            "flatten (Flatten)               (None, 2304)         0           dropout_3[0][0]                  \n",
            "__________________________________________________________________________________________________\n",
            "dense (Dense)                   (None, 64)           147520      flatten[0][0]                    \n",
            "__________________________________________________________________________________________________\n",
            "dense_1 (Dense)                 (None, 64)           147520      flatten[0][0]                    \n",
            "__________________________________________________________________________________________________\n",
            "dropout_4 (Dropout)             (None, 64)           0           dense[0][0]                      \n",
            "__________________________________________________________________________________________________\n",
            "dropout_5 (Dropout)             (None, 64)           0           dense_1[0][0]                    \n",
            "__________________________________________________________________________________________________\n",
            "AgeOut (Dense)                  (None, 1)            65          dropout_4[0][0]                  \n",
            "__________________________________________________________________________________________________\n",
            "GenOut (Dense)                  (None, 1)            65          dropout_5[0][0]                  \n",
            "==================================================================================================\n",
            "Total params: 683,586\n",
            "Trainable params: 683,586\n",
            "Non-trainable params: 0\n",
            "__________________________________________________________________________________________________\n"
          ],
          "name": "stdout"
        }
      ]
    },
    {
      "cell_type": "code",
      "metadata": {
        "id": "hYAADFjvKkW0"
      },
      "source": [
        "saveModel = 'Detection.h5'\n",
        "checkpointer = ModelCheckpoint(saveModel, monitor='val_loss', verbose=1, save_best_only=True, save_weights_only=False, mode='auto', save_freq='epoch')\n",
        "earlyStopping = EarlyStopping(patience=75, monitor='val_loss', restore_best_weights=True)\n",
        "callbacks = [checkpointer, earlyStopping]"
      ],
      "execution_count": null,
      "outputs": []
    },
    {
      "cell_type": "code",
      "metadata": {
        "colab": {
          "base_uri": "https://localhost:8080/"
        },
        "id": "o-Az243KDxL2",
        "outputId": "b5ded63f-4d3f-48c1-ca65-dbf1283daf5c"
      },
      "source": [
        "his = model.fit(xTrain, yTrain, batch_size=64, validation_data=(xTest, yTest), epochs=100, callbacks=[callbacks])"
      ],
      "execution_count": null,
      "outputs": [
        {
          "output_type": "stream",
          "text": [
            "Epoch 1/100\n",
            "297/297 [==============================] - 37s 12ms/step - loss: 17.4898 - AgeOut_loss: 16.7731 - GenOut_loss: 0.7168 - AgeOut_accuracy: 0.0000e+00 - GenOut_accuracy: 0.0000e+00 - val_loss: 15.1224 - val_AgeOut_loss: 14.4426 - val_GenOut_loss: 0.6798 - val_AgeOut_accuracy: 0.0000e+00 - val_GenOut_accuracy: 0.0000e+00\n",
            "\n",
            "Epoch 00001: val_loss improved from inf to 15.12239, saving model to Detection.h5\n",
            "Epoch 2/100\n",
            "297/297 [==============================] - 3s 10ms/step - loss: 13.9788 - AgeOut_loss: 13.3135 - GenOut_loss: 0.6652 - AgeOut_accuracy: 0.0000e+00 - GenOut_accuracy: 0.0000e+00 - val_loss: 10.3020 - val_AgeOut_loss: 9.7367 - val_GenOut_loss: 0.5653 - val_AgeOut_accuracy: 0.0000e+00 - val_GenOut_accuracy: 0.0000e+00\n",
            "\n",
            "Epoch 00002: val_loss improved from 15.12239 to 10.30199, saving model to Detection.h5\n",
            "Epoch 3/100\n",
            "297/297 [==============================] - 3s 10ms/step - loss: 11.2544 - AgeOut_loss: 10.6734 - GenOut_loss: 0.5810 - AgeOut_accuracy: 0.0000e+00 - GenOut_accuracy: 0.0000e+00 - val_loss: 11.1201 - val_AgeOut_loss: 10.5871 - val_GenOut_loss: 0.5330 - val_AgeOut_accuracy: 0.0000e+00 - val_GenOut_accuracy: 0.0000e+00\n",
            "\n",
            "Epoch 00003: val_loss did not improve from 10.30199\n",
            "Epoch 4/100\n",
            "297/297 [==============================] - 3s 10ms/step - loss: 10.1405 - AgeOut_loss: 9.6105 - GenOut_loss: 0.5300 - AgeOut_accuracy: 0.0000e+00 - GenOut_accuracy: 0.0000e+00 - val_loss: 9.3794 - val_AgeOut_loss: 8.9141 - val_GenOut_loss: 0.4653 - val_AgeOut_accuracy: 0.0000e+00 - val_GenOut_accuracy: 0.0000e+00\n",
            "\n",
            "Epoch 00004: val_loss improved from 10.30199 to 9.37943, saving model to Detection.h5\n",
            "Epoch 5/100\n",
            "297/297 [==============================] - 3s 10ms/step - loss: 9.7266 - AgeOut_loss: 9.2289 - GenOut_loss: 0.4977 - AgeOut_accuracy: 0.0000e+00 - GenOut_accuracy: 0.0000e+00 - val_loss: 8.7390 - val_AgeOut_loss: 8.3095 - val_GenOut_loss: 0.4295 - val_AgeOut_accuracy: 0.0000e+00 - val_GenOut_accuracy: 0.0000e+00\n",
            "\n",
            "Epoch 00005: val_loss improved from 9.37943 to 8.73896, saving model to Detection.h5\n",
            "Epoch 6/100\n",
            "297/297 [==============================] - 3s 10ms/step - loss: 9.1673 - AgeOut_loss: 8.6896 - GenOut_loss: 0.4776 - AgeOut_accuracy: 0.0000e+00 - GenOut_accuracy: 0.0000e+00 - val_loss: 8.3311 - val_AgeOut_loss: 7.9268 - val_GenOut_loss: 0.4043 - val_AgeOut_accuracy: 0.0000e+00 - val_GenOut_accuracy: 0.0000e+00\n",
            "\n",
            "Epoch 00006: val_loss improved from 8.73896 to 8.33111, saving model to Detection.h5\n",
            "Epoch 7/100\n",
            "297/297 [==============================] - 3s 10ms/step - loss: 8.8042 - AgeOut_loss: 8.3448 - GenOut_loss: 0.4594 - AgeOut_accuracy: 0.0000e+00 - GenOut_accuracy: 0.0000e+00 - val_loss: 8.7359 - val_AgeOut_loss: 8.3522 - val_GenOut_loss: 0.3837 - val_AgeOut_accuracy: 0.0000e+00 - val_GenOut_accuracy: 0.0000e+00\n",
            "\n",
            "Epoch 00007: val_loss did not improve from 8.33111\n",
            "Epoch 8/100\n",
            "297/297 [==============================] - 3s 10ms/step - loss: 8.5498 - AgeOut_loss: 8.1059 - GenOut_loss: 0.4439 - AgeOut_accuracy: 0.0000e+00 - GenOut_accuracy: 0.0000e+00 - val_loss: 7.9239 - val_AgeOut_loss: 7.5610 - val_GenOut_loss: 0.3629 - val_AgeOut_accuracy: 0.0000e+00 - val_GenOut_accuracy: 0.0000e+00\n",
            "\n",
            "Epoch 00008: val_loss improved from 8.33111 to 7.92389, saving model to Detection.h5\n",
            "Epoch 9/100\n",
            "297/297 [==============================] - 3s 10ms/step - loss: 8.2660 - AgeOut_loss: 7.8269 - GenOut_loss: 0.4391 - AgeOut_accuracy: 0.0000e+00 - GenOut_accuracy: 0.0000e+00 - val_loss: 7.8796 - val_AgeOut_loss: 7.5076 - val_GenOut_loss: 0.3720 - val_AgeOut_accuracy: 0.0000e+00 - val_GenOut_accuracy: 0.0000e+00\n",
            "\n",
            "Epoch 00009: val_loss improved from 7.92389 to 7.87957, saving model to Detection.h5\n",
            "Epoch 10/100\n",
            "297/297 [==============================] - 3s 10ms/step - loss: 7.9906 - AgeOut_loss: 7.5657 - GenOut_loss: 0.4250 - AgeOut_accuracy: 0.0000e+00 - GenOut_accuracy: 0.0000e+00 - val_loss: 8.3809 - val_AgeOut_loss: 8.0406 - val_GenOut_loss: 0.3403 - val_AgeOut_accuracy: 0.0000e+00 - val_GenOut_accuracy: 0.0000e+00\n",
            "\n",
            "Epoch 00010: val_loss did not improve from 7.87957\n",
            "Epoch 11/100\n",
            "297/297 [==============================] - 3s 10ms/step - loss: 8.1302 - AgeOut_loss: 7.7110 - GenOut_loss: 0.4192 - AgeOut_accuracy: 0.0000e+00 - GenOut_accuracy: 0.0000e+00 - val_loss: 7.4253 - val_AgeOut_loss: 7.0875 - val_GenOut_loss: 0.3377 - val_AgeOut_accuracy: 0.0000e+00 - val_GenOut_accuracy: 0.0000e+00\n",
            "\n",
            "Epoch 00011: val_loss improved from 7.87957 to 7.42525, saving model to Detection.h5\n",
            "Epoch 12/100\n",
            "297/297 [==============================] - 3s 10ms/step - loss: 7.8143 - AgeOut_loss: 7.4009 - GenOut_loss: 0.4134 - AgeOut_accuracy: 0.0000e+00 - GenOut_accuracy: 0.0000e+00 - val_loss: 7.1077 - val_AgeOut_loss: 6.7904 - val_GenOut_loss: 0.3172 - val_AgeOut_accuracy: 0.0000e+00 - val_GenOut_accuracy: 0.0000e+00\n",
            "\n",
            "Epoch 00012: val_loss improved from 7.42525 to 7.10767, saving model to Detection.h5\n",
            "Epoch 13/100\n",
            "297/297 [==============================] - 3s 10ms/step - loss: 7.5402 - AgeOut_loss: 7.1317 - GenOut_loss: 0.4085 - AgeOut_accuracy: 0.0000e+00 - GenOut_accuracy: 0.0000e+00 - val_loss: 7.0730 - val_AgeOut_loss: 6.7614 - val_GenOut_loss: 0.3117 - val_AgeOut_accuracy: 0.0000e+00 - val_GenOut_accuracy: 0.0000e+00\n",
            "\n",
            "Epoch 00013: val_loss improved from 7.10767 to 7.07302, saving model to Detection.h5\n",
            "Epoch 14/100\n",
            "297/297 [==============================] - 3s 10ms/step - loss: 7.5440 - AgeOut_loss: 7.1468 - GenOut_loss: 0.3972 - AgeOut_accuracy: 0.0000e+00 - GenOut_accuracy: 0.0000e+00 - val_loss: 6.8358 - val_AgeOut_loss: 6.5361 - val_GenOut_loss: 0.2997 - val_AgeOut_accuracy: 0.0000e+00 - val_GenOut_accuracy: 0.0000e+00\n",
            "\n",
            "Epoch 00014: val_loss improved from 7.07302 to 6.83576, saving model to Detection.h5\n",
            "Epoch 15/100\n",
            "297/297 [==============================] - 3s 10ms/step - loss: 7.2979 - AgeOut_loss: 6.9092 - GenOut_loss: 0.3887 - AgeOut_accuracy: 0.0000e+00 - GenOut_accuracy: 0.0000e+00 - val_loss: 7.2006 - val_AgeOut_loss: 6.8947 - val_GenOut_loss: 0.3059 - val_AgeOut_accuracy: 0.0000e+00 - val_GenOut_accuracy: 0.0000e+00\n",
            "\n",
            "Epoch 00015: val_loss did not improve from 6.83576\n",
            "Epoch 16/100\n",
            "297/297 [==============================] - 3s 10ms/step - loss: 7.1517 - AgeOut_loss: 6.7941 - GenOut_loss: 0.3577 - AgeOut_accuracy: 0.0000e+00 - GenOut_accuracy: 0.0000e+00 - val_loss: 6.8689 - val_AgeOut_loss: 6.5853 - val_GenOut_loss: 0.2836 - val_AgeOut_accuracy: 0.0000e+00 - val_GenOut_accuracy: 0.0000e+00\n",
            "\n",
            "Epoch 00016: val_loss did not improve from 6.83576\n",
            "Epoch 17/100\n",
            "297/297 [==============================] - 3s 10ms/step - loss: 6.9806 - AgeOut_loss: 6.6255 - GenOut_loss: 0.3551 - AgeOut_accuracy: 0.0000e+00 - GenOut_accuracy: 0.0000e+00 - val_loss: 6.8550 - val_AgeOut_loss: 6.5764 - val_GenOut_loss: 0.2786 - val_AgeOut_accuracy: 0.0000e+00 - val_GenOut_accuracy: 0.0000e+00\n",
            "\n",
            "Epoch 00017: val_loss did not improve from 6.83576\n",
            "Epoch 18/100\n",
            "297/297 [==============================] - 3s 10ms/step - loss: 6.8851 - AgeOut_loss: 6.5470 - GenOut_loss: 0.3381 - AgeOut_accuracy: 0.0000e+00 - GenOut_accuracy: 0.0000e+00 - val_loss: 6.7235 - val_AgeOut_loss: 6.4536 - val_GenOut_loss: 0.2699 - val_AgeOut_accuracy: 0.0000e+00 - val_GenOut_accuracy: 0.0000e+00\n",
            "\n",
            "Epoch 00018: val_loss improved from 6.83576 to 6.72353, saving model to Detection.h5\n",
            "Epoch 19/100\n",
            "297/297 [==============================] - 3s 10ms/step - loss: 6.8333 - AgeOut_loss: 6.5025 - GenOut_loss: 0.3308 - AgeOut_accuracy: 0.0000e+00 - GenOut_accuracy: 0.0000e+00 - val_loss: 6.6603 - val_AgeOut_loss: 6.3929 - val_GenOut_loss: 0.2674 - val_AgeOut_accuracy: 0.0000e+00 - val_GenOut_accuracy: 0.0000e+00\n",
            "\n",
            "Epoch 00019: val_loss improved from 6.72353 to 6.66031, saving model to Detection.h5\n",
            "Epoch 20/100\n",
            "297/297 [==============================] - 3s 10ms/step - loss: 6.7551 - AgeOut_loss: 6.4509 - GenOut_loss: 0.3042 - AgeOut_accuracy: 0.0000e+00 - GenOut_accuracy: 0.0000e+00 - val_loss: 6.7074 - val_AgeOut_loss: 6.4371 - val_GenOut_loss: 0.2703 - val_AgeOut_accuracy: 0.0000e+00 - val_GenOut_accuracy: 0.0000e+00\n",
            "\n",
            "Epoch 00020: val_loss did not improve from 6.66031\n",
            "Epoch 21/100\n",
            "297/297 [==============================] - 3s 10ms/step - loss: 6.5843 - AgeOut_loss: 6.2788 - GenOut_loss: 0.3055 - AgeOut_accuracy: 0.0000e+00 - GenOut_accuracy: 0.0000e+00 - val_loss: 7.0861 - val_AgeOut_loss: 6.8150 - val_GenOut_loss: 0.2711 - val_AgeOut_accuracy: 0.0000e+00 - val_GenOut_accuracy: 0.0000e+00\n",
            "\n",
            "Epoch 00021: val_loss did not improve from 6.66031\n",
            "Epoch 22/100\n",
            "297/297 [==============================] - 3s 10ms/step - loss: 6.6569 - AgeOut_loss: 6.3700 - GenOut_loss: 0.2869 - AgeOut_accuracy: 0.0000e+00 - GenOut_accuracy: 0.0000e+00 - val_loss: 6.9202 - val_AgeOut_loss: 6.6591 - val_GenOut_loss: 0.2612 - val_AgeOut_accuracy: 0.0000e+00 - val_GenOut_accuracy: 0.0000e+00\n",
            "\n",
            "Epoch 00022: val_loss did not improve from 6.66031\n",
            "Epoch 23/100\n",
            "297/297 [==============================] - 3s 10ms/step - loss: 6.5709 - AgeOut_loss: 6.2727 - GenOut_loss: 0.2983 - AgeOut_accuracy: 0.0000e+00 - GenOut_accuracy: 0.0000e+00 - val_loss: 6.5135 - val_AgeOut_loss: 6.2548 - val_GenOut_loss: 0.2587 - val_AgeOut_accuracy: 0.0000e+00 - val_GenOut_accuracy: 0.0000e+00\n",
            "\n",
            "Epoch 00023: val_loss improved from 6.66031 to 6.51353, saving model to Detection.h5\n",
            "Epoch 24/100\n",
            "297/297 [==============================] - 3s 11ms/step - loss: 6.4092 - AgeOut_loss: 6.1340 - GenOut_loss: 0.2753 - AgeOut_accuracy: 0.0000e+00 - GenOut_accuracy: 0.0000e+00 - val_loss: 7.1348 - val_AgeOut_loss: 6.8694 - val_GenOut_loss: 0.2655 - val_AgeOut_accuracy: 0.0000e+00 - val_GenOut_accuracy: 0.0000e+00\n",
            "\n",
            "Epoch 00024: val_loss did not improve from 6.51353\n",
            "Epoch 25/100\n",
            "297/297 [==============================] - 3s 11ms/step - loss: 6.4024 - AgeOut_loss: 6.1285 - GenOut_loss: 0.2738 - AgeOut_accuracy: 0.0000e+00 - GenOut_accuracy: 0.0000e+00 - val_loss: 6.5377 - val_AgeOut_loss: 6.2806 - val_GenOut_loss: 0.2571 - val_AgeOut_accuracy: 0.0000e+00 - val_GenOut_accuracy: 0.0000e+00\n",
            "\n",
            "Epoch 00025: val_loss did not improve from 6.51353\n",
            "Epoch 26/100\n",
            "297/297 [==============================] - 3s 11ms/step - loss: 6.1104 - AgeOut_loss: 5.8379 - GenOut_loss: 0.2725 - AgeOut_accuracy: 0.0000e+00 - GenOut_accuracy: 0.0000e+00 - val_loss: 6.7646 - val_AgeOut_loss: 6.4978 - val_GenOut_loss: 0.2668 - val_AgeOut_accuracy: 0.0000e+00 - val_GenOut_accuracy: 0.0000e+00\n",
            "\n",
            "Epoch 00026: val_loss did not improve from 6.51353\n",
            "Epoch 27/100\n",
            "297/297 [==============================] - 3s 10ms/step - loss: 6.2001 - AgeOut_loss: 5.9301 - GenOut_loss: 0.2700 - AgeOut_accuracy: 0.0000e+00 - GenOut_accuracy: 1.7073e-04 - val_loss: 6.9608 - val_AgeOut_loss: 6.7081 - val_GenOut_loss: 0.2528 - val_AgeOut_accuracy: 0.0000e+00 - val_GenOut_accuracy: 0.0000e+00\n",
            "\n",
            "Epoch 00027: val_loss did not improve from 6.51353\n",
            "Epoch 28/100\n",
            "297/297 [==============================] - 3s 10ms/step - loss: 6.2716 - AgeOut_loss: 6.0020 - GenOut_loss: 0.2696 - AgeOut_accuracy: 0.0000e+00 - GenOut_accuracy: 0.0000e+00 - val_loss: 6.5836 - val_AgeOut_loss: 6.3263 - val_GenOut_loss: 0.2574 - val_AgeOut_accuracy: 0.0000e+00 - val_GenOut_accuracy: 0.0000e+00\n",
            "\n",
            "Epoch 00028: val_loss did not improve from 6.51353\n",
            "Epoch 29/100\n",
            "297/297 [==============================] - 3s 10ms/step - loss: 5.9744 - AgeOut_loss: 5.6977 - GenOut_loss: 0.2767 - AgeOut_accuracy: 0.0000e+00 - GenOut_accuracy: 0.0000e+00 - val_loss: 6.4123 - val_AgeOut_loss: 6.1645 - val_GenOut_loss: 0.2478 - val_AgeOut_accuracy: 0.0000e+00 - val_GenOut_accuracy: 0.0000e+00\n",
            "\n",
            "Epoch 00029: val_loss improved from 6.51353 to 6.41233, saving model to Detection.h5\n",
            "Epoch 30/100\n",
            "297/297 [==============================] - 3s 11ms/step - loss: 5.9662 - AgeOut_loss: 5.7092 - GenOut_loss: 0.2571 - AgeOut_accuracy: 0.0000e+00 - GenOut_accuracy: 0.0000e+00 - val_loss: 6.5572 - val_AgeOut_loss: 6.3063 - val_GenOut_loss: 0.2510 - val_AgeOut_accuracy: 0.0000e+00 - val_GenOut_accuracy: 0.0000e+00\n",
            "\n",
            "Epoch 00030: val_loss did not improve from 6.41233\n",
            "Epoch 31/100\n",
            "297/297 [==============================] - 3s 10ms/step - loss: 6.0002 - AgeOut_loss: 5.7400 - GenOut_loss: 0.2601 - AgeOut_accuracy: 0.0000e+00 - GenOut_accuracy: 0.0000e+00 - val_loss: 6.9713 - val_AgeOut_loss: 6.7191 - val_GenOut_loss: 0.2522 - val_AgeOut_accuracy: 0.0000e+00 - val_GenOut_accuracy: 0.0000e+00\n",
            "\n",
            "Epoch 00031: val_loss did not improve from 6.41233\n",
            "Epoch 32/100\n",
            "297/297 [==============================] - 3s 10ms/step - loss: 5.9471 - AgeOut_loss: 5.6946 - GenOut_loss: 0.2525 - AgeOut_accuracy: 0.0000e+00 - GenOut_accuracy: 0.0000e+00 - val_loss: 6.6600 - val_AgeOut_loss: 6.4150 - val_GenOut_loss: 0.2450 - val_AgeOut_accuracy: 0.0000e+00 - val_GenOut_accuracy: 0.0000e+00\n",
            "\n",
            "Epoch 00032: val_loss did not improve from 6.41233\n",
            "Epoch 33/100\n",
            "297/297 [==============================] - 3s 10ms/step - loss: 5.8737 - AgeOut_loss: 5.6228 - GenOut_loss: 0.2509 - AgeOut_accuracy: 0.0000e+00 - GenOut_accuracy: 0.0000e+00 - val_loss: 6.5067 - val_AgeOut_loss: 6.2535 - val_GenOut_loss: 0.2532 - val_AgeOut_accuracy: 0.0000e+00 - val_GenOut_accuracy: 0.0000e+00\n",
            "\n",
            "Epoch 00033: val_loss did not improve from 6.41233\n",
            "Epoch 34/100\n",
            "297/297 [==============================] - 3s 10ms/step - loss: 5.8874 - AgeOut_loss: 5.6288 - GenOut_loss: 0.2586 - AgeOut_accuracy: 0.0000e+00 - GenOut_accuracy: 0.0000e+00 - val_loss: 6.5284 - val_AgeOut_loss: 6.2648 - val_GenOut_loss: 0.2636 - val_AgeOut_accuracy: 0.0000e+00 - val_GenOut_accuracy: 0.0000e+00\n",
            "\n",
            "Epoch 00034: val_loss did not improve from 6.41233\n",
            "Epoch 35/100\n",
            "297/297 [==============================] - 3s 11ms/step - loss: 5.7928 - AgeOut_loss: 5.5486 - GenOut_loss: 0.2442 - AgeOut_accuracy: 0.0000e+00 - GenOut_accuracy: 0.0000e+00 - val_loss: 6.5276 - val_AgeOut_loss: 6.2747 - val_GenOut_loss: 0.2529 - val_AgeOut_accuracy: 0.0000e+00 - val_GenOut_accuracy: 0.0000e+00\n",
            "\n",
            "Epoch 00035: val_loss did not improve from 6.41233\n",
            "Epoch 36/100\n",
            "297/297 [==============================] - 3s 10ms/step - loss: 5.8459 - AgeOut_loss: 5.5964 - GenOut_loss: 0.2495 - AgeOut_accuracy: 0.0000e+00 - GenOut_accuracy: 2.7850e-05 - val_loss: 6.6831 - val_AgeOut_loss: 6.4261 - val_GenOut_loss: 0.2570 - val_AgeOut_accuracy: 0.0000e+00 - val_GenOut_accuracy: 0.0000e+00\n",
            "\n",
            "Epoch 00036: val_loss did not improve from 6.41233\n",
            "Epoch 37/100\n",
            "297/297 [==============================] - 3s 10ms/step - loss: 5.5784 - AgeOut_loss: 5.3311 - GenOut_loss: 0.2473 - AgeOut_accuracy: 0.0000e+00 - GenOut_accuracy: 3.7679e-05 - val_loss: 6.5785 - val_AgeOut_loss: 6.3231 - val_GenOut_loss: 0.2554 - val_AgeOut_accuracy: 0.0000e+00 - val_GenOut_accuracy: 0.0000e+00\n",
            "\n",
            "Epoch 00037: val_loss did not improve from 6.41233\n",
            "Epoch 38/100\n",
            "297/297 [==============================] - 3s 11ms/step - loss: 5.5865 - AgeOut_loss: 5.3485 - GenOut_loss: 0.2380 - AgeOut_accuracy: 0.0000e+00 - GenOut_accuracy: 0.0000e+00 - val_loss: 6.5027 - val_AgeOut_loss: 6.2377 - val_GenOut_loss: 0.2650 - val_AgeOut_accuracy: 0.0000e+00 - val_GenOut_accuracy: 0.0000e+00\n",
            "\n",
            "Epoch 00038: val_loss did not improve from 6.41233\n",
            "Epoch 39/100\n",
            "297/297 [==============================] - 3s 10ms/step - loss: 5.6199 - AgeOut_loss: 5.3761 - GenOut_loss: 0.2438 - AgeOut_accuracy: 0.0000e+00 - GenOut_accuracy: 0.0000e+00 - val_loss: 6.4737 - val_AgeOut_loss: 6.2133 - val_GenOut_loss: 0.2604 - val_AgeOut_accuracy: 0.0000e+00 - val_GenOut_accuracy: 0.0000e+00\n",
            "\n",
            "Epoch 00039: val_loss did not improve from 6.41233\n",
            "Epoch 40/100\n",
            "297/297 [==============================] - 3s 11ms/step - loss: 5.5674 - AgeOut_loss: 5.3310 - GenOut_loss: 0.2364 - AgeOut_accuracy: 0.0000e+00 - GenOut_accuracy: 1.3563e-04 - val_loss: 6.4719 - val_AgeOut_loss: 6.2150 - val_GenOut_loss: 0.2570 - val_AgeOut_accuracy: 0.0000e+00 - val_GenOut_accuracy: 0.0000e+00\n",
            "\n",
            "Epoch 00040: val_loss did not improve from 6.41233\n",
            "Epoch 41/100\n",
            "297/297 [==============================] - 3s 10ms/step - loss: 5.4380 - AgeOut_loss: 5.2001 - GenOut_loss: 0.2378 - AgeOut_accuracy: 0.0000e+00 - GenOut_accuracy: 3.3582e-04 - val_loss: 7.0561 - val_AgeOut_loss: 6.7943 - val_GenOut_loss: 0.2618 - val_AgeOut_accuracy: 0.0000e+00 - val_GenOut_accuracy: 0.0000e+00\n",
            "\n",
            "Epoch 00041: val_loss did not improve from 6.41233\n",
            "Epoch 42/100\n",
            "297/297 [==============================] - 3s 11ms/step - loss: 5.4816 - AgeOut_loss: 5.2518 - GenOut_loss: 0.2299 - AgeOut_accuracy: 0.0000e+00 - GenOut_accuracy: 8.3850e-05 - val_loss: 6.5021 - val_AgeOut_loss: 6.2518 - val_GenOut_loss: 0.2504 - val_AgeOut_accuracy: 0.0000e+00 - val_GenOut_accuracy: 0.0000e+00\n",
            "\n",
            "Epoch 00042: val_loss did not improve from 6.41233\n",
            "Epoch 43/100\n",
            "297/297 [==============================] - 3s 10ms/step - loss: 5.4701 - AgeOut_loss: 5.2353 - GenOut_loss: 0.2347 - AgeOut_accuracy: 0.0000e+00 - GenOut_accuracy: 1.6519e-04 - val_loss: 6.4929 - val_AgeOut_loss: 6.2392 - val_GenOut_loss: 0.2537 - val_AgeOut_accuracy: 0.0000e+00 - val_GenOut_accuracy: 0.0000e+00\n",
            "\n",
            "Epoch 00043: val_loss did not improve from 6.41233\n",
            "Epoch 44/100\n",
            "297/297 [==============================] - 3s 10ms/step - loss: 5.5203 - AgeOut_loss: 5.2938 - GenOut_loss: 0.2264 - AgeOut_accuracy: 0.0000e+00 - GenOut_accuracy: 1.7880e-06 - val_loss: 6.4955 - val_AgeOut_loss: 6.2378 - val_GenOut_loss: 0.2576 - val_AgeOut_accuracy: 0.0000e+00 - val_GenOut_accuracy: 0.0000e+00\n",
            "\n",
            "Epoch 00044: val_loss did not improve from 6.41233\n",
            "Epoch 45/100\n",
            "297/297 [==============================] - 3s 10ms/step - loss: 5.4714 - AgeOut_loss: 5.2481 - GenOut_loss: 0.2233 - AgeOut_accuracy: 0.0000e+00 - GenOut_accuracy: 3.5191e-04 - val_loss: 6.4814 - val_AgeOut_loss: 6.2219 - val_GenOut_loss: 0.2595 - val_AgeOut_accuracy: 0.0000e+00 - val_GenOut_accuracy: 0.0000e+00\n",
            "\n",
            "Epoch 00045: val_loss did not improve from 6.41233\n",
            "Epoch 46/100\n",
            "297/297 [==============================] - 3s 11ms/step - loss: 5.3899 - AgeOut_loss: 5.1653 - GenOut_loss: 0.2246 - AgeOut_accuracy: 0.0000e+00 - GenOut_accuracy: 4.8062e-04 - val_loss: 6.8859 - val_AgeOut_loss: 6.6380 - val_GenOut_loss: 0.2479 - val_AgeOut_accuracy: 0.0000e+00 - val_GenOut_accuracy: 0.0000e+00\n",
            "\n",
            "Epoch 00046: val_loss did not improve from 6.41233\n",
            "Epoch 47/100\n",
            "297/297 [==============================] - 3s 10ms/step - loss: 5.4245 - AgeOut_loss: 5.1949 - GenOut_loss: 0.2296 - AgeOut_accuracy: 0.0000e+00 - GenOut_accuracy: 6.6878e-04 - val_loss: 7.4989 - val_AgeOut_loss: 7.2402 - val_GenOut_loss: 0.2586 - val_AgeOut_accuracy: 0.0000e+00 - val_GenOut_accuracy: 0.0000e+00\n",
            "\n",
            "Epoch 00047: val_loss did not improve from 6.41233\n",
            "Epoch 48/100\n",
            "297/297 [==============================] - 3s 11ms/step - loss: 5.2846 - AgeOut_loss: 5.0645 - GenOut_loss: 0.2201 - AgeOut_accuracy: 0.0000e+00 - GenOut_accuracy: 0.0013 - val_loss: 6.8408 - val_AgeOut_loss: 6.5878 - val_GenOut_loss: 0.2530 - val_AgeOut_accuracy: 0.0000e+00 - val_GenOut_accuracy: 0.0000e+00\n",
            "\n",
            "Epoch 00048: val_loss did not improve from 6.41233\n",
            "Epoch 49/100\n",
            "297/297 [==============================] - 3s 11ms/step - loss: 5.3428 - AgeOut_loss: 5.1171 - GenOut_loss: 0.2257 - AgeOut_accuracy: 0.0000e+00 - GenOut_accuracy: 4.9780e-04 - val_loss: 6.4490 - val_AgeOut_loss: 6.1942 - val_GenOut_loss: 0.2548 - val_AgeOut_accuracy: 0.0000e+00 - val_GenOut_accuracy: 0.0000e+00\n",
            "\n",
            "Epoch 00049: val_loss did not improve from 6.41233\n",
            "Epoch 50/100\n",
            "297/297 [==============================] - 3s 10ms/step - loss: 5.2331 - AgeOut_loss: 5.0147 - GenOut_loss: 0.2184 - AgeOut_accuracy: 0.0000e+00 - GenOut_accuracy: 0.0010 - val_loss: 6.5977 - val_AgeOut_loss: 6.3319 - val_GenOut_loss: 0.2658 - val_AgeOut_accuracy: 0.0000e+00 - val_GenOut_accuracy: 0.0000e+00\n",
            "\n",
            "Epoch 00050: val_loss did not improve from 6.41233\n",
            "Epoch 51/100\n",
            "297/297 [==============================] - 3s 10ms/step - loss: 5.2116 - AgeOut_loss: 4.9929 - GenOut_loss: 0.2188 - AgeOut_accuracy: 0.0000e+00 - GenOut_accuracy: 8.2526e-04 - val_loss: 6.6153 - val_AgeOut_loss: 6.3316 - val_GenOut_loss: 0.2837 - val_AgeOut_accuracy: 0.0000e+00 - val_GenOut_accuracy: 0.0000e+00\n",
            "\n",
            "Epoch 00051: val_loss did not improve from 6.41233\n",
            "Epoch 52/100\n",
            "297/297 [==============================] - 3s 10ms/step - loss: 5.1177 - AgeOut_loss: 4.9036 - GenOut_loss: 0.2141 - AgeOut_accuracy: 0.0000e+00 - GenOut_accuracy: 0.0010 - val_loss: 6.3910 - val_AgeOut_loss: 6.1343 - val_GenOut_loss: 0.2567 - val_AgeOut_accuracy: 0.0000e+00 - val_GenOut_accuracy: 0.0000e+00\n",
            "\n",
            "Epoch 00052: val_loss improved from 6.41233 to 6.39096, saving model to Detection.h5\n",
            "Epoch 53/100\n",
            "297/297 [==============================] - 3s 10ms/step - loss: 5.2678 - AgeOut_loss: 5.0452 - GenOut_loss: 0.2226 - AgeOut_accuracy: 0.0000e+00 - GenOut_accuracy: 3.7323e-04 - val_loss: 6.7983 - val_AgeOut_loss: 6.5370 - val_GenOut_loss: 0.2613 - val_AgeOut_accuracy: 0.0000e+00 - val_GenOut_accuracy: 0.0000e+00\n",
            "\n",
            "Epoch 00053: val_loss did not improve from 6.39096\n",
            "Epoch 54/100\n",
            "297/297 [==============================] - 3s 11ms/step - loss: 5.0784 - AgeOut_loss: 4.8716 - GenOut_loss: 0.2068 - AgeOut_accuracy: 0.0000e+00 - GenOut_accuracy: 0.0011 - val_loss: 7.3994 - val_AgeOut_loss: 7.1429 - val_GenOut_loss: 0.2565 - val_AgeOut_accuracy: 0.0000e+00 - val_GenOut_accuracy: 0.0000e+00\n",
            "\n",
            "Epoch 00054: val_loss did not improve from 6.39096\n",
            "Epoch 55/100\n",
            "297/297 [==============================] - 3s 11ms/step - loss: 5.1544 - AgeOut_loss: 4.9370 - GenOut_loss: 0.2174 - AgeOut_accuracy: 0.0000e+00 - GenOut_accuracy: 5.9477e-04 - val_loss: 6.3939 - val_AgeOut_loss: 6.1319 - val_GenOut_loss: 0.2620 - val_AgeOut_accuracy: 0.0000e+00 - val_GenOut_accuracy: 0.0000e+00\n",
            "\n",
            "Epoch 00055: val_loss did not improve from 6.39096\n",
            "Epoch 56/100\n",
            "297/297 [==============================] - 3s 11ms/step - loss: 5.1660 - AgeOut_loss: 4.9626 - GenOut_loss: 0.2034 - AgeOut_accuracy: 0.0000e+00 - GenOut_accuracy: 4.3546e-04 - val_loss: 6.8302 - val_AgeOut_loss: 6.5599 - val_GenOut_loss: 0.2703 - val_AgeOut_accuracy: 0.0000e+00 - val_GenOut_accuracy: 6.3264e-04\n",
            "\n",
            "Epoch 00056: val_loss did not improve from 6.39096\n",
            "Epoch 57/100\n",
            "297/297 [==============================] - 3s 10ms/step - loss: 5.1550 - AgeOut_loss: 4.9430 - GenOut_loss: 0.2120 - AgeOut_accuracy: 0.0000e+00 - GenOut_accuracy: 6.8725e-04 - val_loss: 6.6520 - val_AgeOut_loss: 6.3896 - val_GenOut_loss: 0.2624 - val_AgeOut_accuracy: 0.0000e+00 - val_GenOut_accuracy: 2.1088e-04\n",
            "\n",
            "Epoch 00057: val_loss did not improve from 6.39096\n",
            "Epoch 58/100\n",
            "297/297 [==============================] - 3s 11ms/step - loss: 5.0307 - AgeOut_loss: 4.8201 - GenOut_loss: 0.2107 - AgeOut_accuracy: 0.0000e+00 - GenOut_accuracy: 9.7789e-04 - val_loss: 7.1777 - val_AgeOut_loss: 6.9132 - val_GenOut_loss: 0.2645 - val_AgeOut_accuracy: 0.0000e+00 - val_GenOut_accuracy: 0.0000e+00\n",
            "\n",
            "Epoch 00058: val_loss did not improve from 6.39096\n",
            "Epoch 59/100\n",
            "297/297 [==============================] - 3s 11ms/step - loss: 5.0124 - AgeOut_loss: 4.8008 - GenOut_loss: 0.2116 - AgeOut_accuracy: 0.0000e+00 - GenOut_accuracy: 6.2737e-04 - val_loss: 6.5635 - val_AgeOut_loss: 6.2951 - val_GenOut_loss: 0.2684 - val_AgeOut_accuracy: 0.0000e+00 - val_GenOut_accuracy: 0.0000e+00\n",
            "\n",
            "Epoch 00059: val_loss did not improve from 6.39096\n",
            "Epoch 60/100\n",
            "297/297 [==============================] - 3s 11ms/step - loss: 4.9690 - AgeOut_loss: 4.7633 - GenOut_loss: 0.2058 - AgeOut_accuracy: 0.0000e+00 - GenOut_accuracy: 0.0012 - val_loss: 6.6907 - val_AgeOut_loss: 6.4287 - val_GenOut_loss: 0.2620 - val_AgeOut_accuracy: 0.0000e+00 - val_GenOut_accuracy: 0.0000e+00\n",
            "\n",
            "Epoch 00060: val_loss did not improve from 6.39096\n",
            "Epoch 61/100\n",
            "297/297 [==============================] - 3s 11ms/step - loss: 5.0516 - AgeOut_loss: 4.8481 - GenOut_loss: 0.2035 - AgeOut_accuracy: 0.0000e+00 - GenOut_accuracy: 0.0013 - val_loss: 6.7309 - val_AgeOut_loss: 6.4784 - val_GenOut_loss: 0.2525 - val_AgeOut_accuracy: 0.0000e+00 - val_GenOut_accuracy: 0.0000e+00\n",
            "\n",
            "Epoch 00061: val_loss did not improve from 6.39096\n",
            "Epoch 62/100\n",
            "297/297 [==============================] - 3s 11ms/step - loss: 5.0689 - AgeOut_loss: 4.8672 - GenOut_loss: 0.2017 - AgeOut_accuracy: 0.0000e+00 - GenOut_accuracy: 9.6763e-04 - val_loss: 6.5637 - val_AgeOut_loss: 6.2908 - val_GenOut_loss: 0.2730 - val_AgeOut_accuracy: 0.0000e+00 - val_GenOut_accuracy: 4.2176e-04\n",
            "\n",
            "Epoch 00062: val_loss did not improve from 6.39096\n",
            "Epoch 63/100\n",
            "297/297 [==============================] - 3s 10ms/step - loss: 4.9105 - AgeOut_loss: 4.7063 - GenOut_loss: 0.2042 - AgeOut_accuracy: 0.0000e+00 - GenOut_accuracy: 0.0012 - val_loss: 6.5146 - val_AgeOut_loss: 6.2603 - val_GenOut_loss: 0.2542 - val_AgeOut_accuracy: 0.0000e+00 - val_GenOut_accuracy: 0.0000e+00\n",
            "\n",
            "Epoch 00063: val_loss did not improve from 6.39096\n",
            "Epoch 64/100\n",
            "297/297 [==============================] - 3s 11ms/step - loss: 4.9134 - AgeOut_loss: 4.7176 - GenOut_loss: 0.1958 - AgeOut_accuracy: 0.0000e+00 - GenOut_accuracy: 8.3380e-04 - val_loss: 6.4476 - val_AgeOut_loss: 6.1966 - val_GenOut_loss: 0.2510 - val_AgeOut_accuracy: 0.0000e+00 - val_GenOut_accuracy: 0.0000e+00\n",
            "\n",
            "Epoch 00064: val_loss did not improve from 6.39096\n",
            "Epoch 65/100\n",
            "297/297 [==============================] - 3s 10ms/step - loss: 4.8995 - AgeOut_loss: 4.7029 - GenOut_loss: 0.1967 - AgeOut_accuracy: 0.0000e+00 - GenOut_accuracy: 0.0012 - val_loss: 6.5545 - val_AgeOut_loss: 6.2879 - val_GenOut_loss: 0.2666 - val_AgeOut_accuracy: 0.0000e+00 - val_GenOut_accuracy: 0.0000e+00\n",
            "\n",
            "Epoch 00065: val_loss did not improve from 6.39096\n",
            "Epoch 66/100\n",
            "297/297 [==============================] - 3s 10ms/step - loss: 4.8778 - AgeOut_loss: 4.6806 - GenOut_loss: 0.1973 - AgeOut_accuracy: 0.0000e+00 - GenOut_accuracy: 0.0015 - val_loss: 6.6878 - val_AgeOut_loss: 6.4212 - val_GenOut_loss: 0.2666 - val_AgeOut_accuracy: 0.0000e+00 - val_GenOut_accuracy: 0.0017\n",
            "\n",
            "Epoch 00066: val_loss did not improve from 6.39096\n",
            "Epoch 67/100\n",
            "297/297 [==============================] - 3s 10ms/step - loss: 4.9381 - AgeOut_loss: 4.7404 - GenOut_loss: 0.1976 - AgeOut_accuracy: 0.0000e+00 - GenOut_accuracy: 0.0021 - val_loss: 6.4782 - val_AgeOut_loss: 6.1967 - val_GenOut_loss: 0.2815 - val_AgeOut_accuracy: 0.0000e+00 - val_GenOut_accuracy: 0.0000e+00\n",
            "\n",
            "Epoch 00067: val_loss did not improve from 6.39096\n",
            "Epoch 68/100\n",
            "297/297 [==============================] - 3s 11ms/step - loss: 4.8982 - AgeOut_loss: 4.6914 - GenOut_loss: 0.2068 - AgeOut_accuracy: 0.0000e+00 - GenOut_accuracy: 0.0019 - val_loss: 6.7595 - val_AgeOut_loss: 6.4855 - val_GenOut_loss: 0.2740 - val_AgeOut_accuracy: 0.0000e+00 - val_GenOut_accuracy: 2.1088e-04\n",
            "\n",
            "Epoch 00068: val_loss did not improve from 6.39096\n",
            "Epoch 69/100\n",
            "297/297 [==============================] - 3s 11ms/step - loss: 4.8277 - AgeOut_loss: 4.6276 - GenOut_loss: 0.2001 - AgeOut_accuracy: 0.0000e+00 - GenOut_accuracy: 0.0015 - val_loss: 6.4999 - val_AgeOut_loss: 6.2308 - val_GenOut_loss: 0.2691 - val_AgeOut_accuracy: 0.0000e+00 - val_GenOut_accuracy: 4.2176e-04\n",
            "\n",
            "Epoch 00069: val_loss did not improve from 6.39096\n",
            "Epoch 70/100\n",
            "297/297 [==============================] - 3s 10ms/step - loss: 4.8277 - AgeOut_loss: 4.6250 - GenOut_loss: 0.2027 - AgeOut_accuracy: 0.0000e+00 - GenOut_accuracy: 0.0012 - val_loss: 6.4020 - val_AgeOut_loss: 6.1268 - val_GenOut_loss: 0.2752 - val_AgeOut_accuracy: 0.0000e+00 - val_GenOut_accuracy: 0.0011\n",
            "\n",
            "Epoch 00070: val_loss did not improve from 6.39096\n",
            "Epoch 71/100\n",
            "297/297 [==============================] - 3s 11ms/step - loss: 4.9259 - AgeOut_loss: 4.7266 - GenOut_loss: 0.1992 - AgeOut_accuracy: 0.0000e+00 - GenOut_accuracy: 0.0031 - val_loss: 6.4228 - val_AgeOut_loss: 6.1423 - val_GenOut_loss: 0.2805 - val_AgeOut_accuracy: 0.0000e+00 - val_GenOut_accuracy: 0.0021\n",
            "\n",
            "Epoch 00071: val_loss did not improve from 6.39096\n",
            "Epoch 72/100\n",
            "297/297 [==============================] - 3s 11ms/step - loss: 4.8080 - AgeOut_loss: 4.6148 - GenOut_loss: 0.1932 - AgeOut_accuracy: 0.0000e+00 - GenOut_accuracy: 0.0023 - val_loss: 6.7349 - val_AgeOut_loss: 6.4584 - val_GenOut_loss: 0.2765 - val_AgeOut_accuracy: 0.0000e+00 - val_GenOut_accuracy: 8.4353e-04\n",
            "\n",
            "Epoch 00072: val_loss did not improve from 6.39096\n",
            "Epoch 73/100\n",
            "297/297 [==============================] - 3s 10ms/step - loss: 4.9138 - AgeOut_loss: 4.7227 - GenOut_loss: 0.1911 - AgeOut_accuracy: 0.0000e+00 - GenOut_accuracy: 0.0026 - val_loss: 6.3899 - val_AgeOut_loss: 6.1153 - val_GenOut_loss: 0.2746 - val_AgeOut_accuracy: 0.0000e+00 - val_GenOut_accuracy: 6.3264e-04\n",
            "\n",
            "Epoch 00073: val_loss improved from 6.39096 to 6.38992, saving model to Detection.h5\n",
            "Epoch 74/100\n",
            "297/297 [==============================] - 3s 10ms/step - loss: 4.8469 - AgeOut_loss: 4.6484 - GenOut_loss: 0.1985 - AgeOut_accuracy: 0.0000e+00 - GenOut_accuracy: 0.0011 - val_loss: 6.6612 - val_AgeOut_loss: 6.4008 - val_GenOut_loss: 0.2604 - val_AgeOut_accuracy: 0.0000e+00 - val_GenOut_accuracy: 0.0000e+00\n",
            "\n",
            "Epoch 00074: val_loss did not improve from 6.38992\n",
            "Epoch 75/100\n",
            "297/297 [==============================] - 3s 11ms/step - loss: 4.7880 - AgeOut_loss: 4.5953 - GenOut_loss: 0.1926 - AgeOut_accuracy: 0.0000e+00 - GenOut_accuracy: 0.0023 - val_loss: 6.5289 - val_AgeOut_loss: 6.2684 - val_GenOut_loss: 0.2605 - val_AgeOut_accuracy: 0.0000e+00 - val_GenOut_accuracy: 2.1088e-04\n",
            "\n",
            "Epoch 00075: val_loss did not improve from 6.38992\n",
            "Epoch 76/100\n",
            "297/297 [==============================] - 3s 10ms/step - loss: 4.6936 - AgeOut_loss: 4.5027 - GenOut_loss: 0.1909 - AgeOut_accuracy: 0.0000e+00 - GenOut_accuracy: 0.0020 - val_loss: 6.5124 - val_AgeOut_loss: 6.2416 - val_GenOut_loss: 0.2708 - val_AgeOut_accuracy: 0.0000e+00 - val_GenOut_accuracy: 4.2176e-04\n",
            "\n",
            "Epoch 00076: val_loss did not improve from 6.38992\n",
            "Epoch 77/100\n",
            "297/297 [==============================] - 3s 11ms/step - loss: 4.8333 - AgeOut_loss: 4.6441 - GenOut_loss: 0.1892 - AgeOut_accuracy: 0.0000e+00 - GenOut_accuracy: 0.0032 - val_loss: 6.7800 - val_AgeOut_loss: 6.5205 - val_GenOut_loss: 0.2596 - val_AgeOut_accuracy: 0.0000e+00 - val_GenOut_accuracy: 0.0013\n",
            "\n",
            "Epoch 00077: val_loss did not improve from 6.38992\n",
            "Epoch 78/100\n",
            "297/297 [==============================] - 3s 11ms/step - loss: 4.7253 - AgeOut_loss: 4.5382 - GenOut_loss: 0.1871 - AgeOut_accuracy: 0.0000e+00 - GenOut_accuracy: 0.0044 - val_loss: 6.6461 - val_AgeOut_loss: 6.3719 - val_GenOut_loss: 0.2742 - val_AgeOut_accuracy: 0.0000e+00 - val_GenOut_accuracy: 6.3264e-04\n",
            "\n",
            "Epoch 00078: val_loss did not improve from 6.38992\n",
            "Epoch 79/100\n",
            "297/297 [==============================] - 3s 11ms/step - loss: 4.7665 - AgeOut_loss: 4.5767 - GenOut_loss: 0.1898 - AgeOut_accuracy: 0.0000e+00 - GenOut_accuracy: 0.0027 - val_loss: 6.8565 - val_AgeOut_loss: 6.5870 - val_GenOut_loss: 0.2695 - val_AgeOut_accuracy: 0.0000e+00 - val_GenOut_accuracy: 0.0011\n",
            "\n",
            "Epoch 00079: val_loss did not improve from 6.38992\n",
            "Epoch 80/100\n",
            "297/297 [==============================] - 3s 11ms/step - loss: 4.7214 - AgeOut_loss: 4.5354 - GenOut_loss: 0.1860 - AgeOut_accuracy: 0.0000e+00 - GenOut_accuracy: 0.0037 - val_loss: 6.6249 - val_AgeOut_loss: 6.3536 - val_GenOut_loss: 0.2713 - val_AgeOut_accuracy: 0.0000e+00 - val_GenOut_accuracy: 0.0019\n",
            "\n",
            "Epoch 00080: val_loss did not improve from 6.38992\n",
            "Epoch 81/100\n",
            "297/297 [==============================] - 3s 10ms/step - loss: 4.7319 - AgeOut_loss: 4.5438 - GenOut_loss: 0.1881 - AgeOut_accuracy: 0.0000e+00 - GenOut_accuracy: 0.0046 - val_loss: 6.4541 - val_AgeOut_loss: 6.1810 - val_GenOut_loss: 0.2732 - val_AgeOut_accuracy: 0.0000e+00 - val_GenOut_accuracy: 0.0030\n",
            "\n",
            "Epoch 00081: val_loss did not improve from 6.38992\n",
            "Epoch 82/100\n",
            "297/297 [==============================] - 3s 11ms/step - loss: 4.6369 - AgeOut_loss: 4.4489 - GenOut_loss: 0.1881 - AgeOut_accuracy: 0.0000e+00 - GenOut_accuracy: 0.0065 - val_loss: 6.4504 - val_AgeOut_loss: 6.1860 - val_GenOut_loss: 0.2644 - val_AgeOut_accuracy: 0.0000e+00 - val_GenOut_accuracy: 2.1088e-04\n",
            "\n",
            "Epoch 00082: val_loss did not improve from 6.38992\n",
            "Epoch 83/100\n",
            "297/297 [==============================] - 3s 10ms/step - loss: 4.5926 - AgeOut_loss: 4.4131 - GenOut_loss: 0.1795 - AgeOut_accuracy: 0.0000e+00 - GenOut_accuracy: 0.0037 - val_loss: 6.6966 - val_AgeOut_loss: 6.4282 - val_GenOut_loss: 0.2684 - val_AgeOut_accuracy: 0.0000e+00 - val_GenOut_accuracy: 4.2176e-04\n",
            "\n",
            "Epoch 00083: val_loss did not improve from 6.38992\n",
            "Epoch 84/100\n",
            "297/297 [==============================] - 3s 10ms/step - loss: 4.6306 - AgeOut_loss: 4.4541 - GenOut_loss: 0.1766 - AgeOut_accuracy: 0.0000e+00 - GenOut_accuracy: 0.0032 - val_loss: 6.6763 - val_AgeOut_loss: 6.4066 - val_GenOut_loss: 0.2698 - val_AgeOut_accuracy: 0.0000e+00 - val_GenOut_accuracy: 4.2176e-04\n",
            "\n",
            "Epoch 00084: val_loss did not improve from 6.38992\n",
            "Epoch 85/100\n",
            "297/297 [==============================] - 3s 11ms/step - loss: 4.7282 - AgeOut_loss: 4.5436 - GenOut_loss: 0.1847 - AgeOut_accuracy: 0.0000e+00 - GenOut_accuracy: 0.0035 - val_loss: 6.9664 - val_AgeOut_loss: 6.6950 - val_GenOut_loss: 0.2714 - val_AgeOut_accuracy: 0.0000e+00 - val_GenOut_accuracy: 6.3264e-04\n",
            "\n",
            "Epoch 00085: val_loss did not improve from 6.38992\n",
            "Epoch 86/100\n",
            "297/297 [==============================] - 3s 11ms/step - loss: 4.6818 - AgeOut_loss: 4.4948 - GenOut_loss: 0.1870 - AgeOut_accuracy: 0.0000e+00 - GenOut_accuracy: 0.0032 - val_loss: 6.6904 - val_AgeOut_loss: 6.4169 - val_GenOut_loss: 0.2736 - val_AgeOut_accuracy: 0.0000e+00 - val_GenOut_accuracy: 0.0023\n",
            "\n",
            "Epoch 00086: val_loss did not improve from 6.38992\n",
            "Epoch 87/100\n",
            "297/297 [==============================] - 3s 11ms/step - loss: 4.6938 - AgeOut_loss: 4.5191 - GenOut_loss: 0.1747 - AgeOut_accuracy: 0.0000e+00 - GenOut_accuracy: 0.0045 - val_loss: 7.1533 - val_AgeOut_loss: 6.8889 - val_GenOut_loss: 0.2643 - val_AgeOut_accuracy: 0.0000e+00 - val_GenOut_accuracy: 4.2176e-04\n",
            "\n",
            "Epoch 00087: val_loss did not improve from 6.38992\n",
            "Epoch 88/100\n",
            "297/297 [==============================] - 3s 11ms/step - loss: 4.7410 - AgeOut_loss: 4.5611 - GenOut_loss: 0.1799 - AgeOut_accuracy: 0.0000e+00 - GenOut_accuracy: 0.0070 - val_loss: 7.0514 - val_AgeOut_loss: 6.7925 - val_GenOut_loss: 0.2589 - val_AgeOut_accuracy: 0.0000e+00 - val_GenOut_accuracy: 0.0011\n",
            "\n",
            "Epoch 00088: val_loss did not improve from 6.38992\n",
            "Epoch 89/100\n",
            "297/297 [==============================] - 3s 10ms/step - loss: 4.6333 - AgeOut_loss: 4.4522 - GenOut_loss: 0.1811 - AgeOut_accuracy: 0.0000e+00 - GenOut_accuracy: 0.0030 - val_loss: 6.4337 - val_AgeOut_loss: 6.1682 - val_GenOut_loss: 0.2655 - val_AgeOut_accuracy: 0.0000e+00 - val_GenOut_accuracy: 0.0015\n",
            "\n",
            "Epoch 00089: val_loss did not improve from 6.38992\n",
            "Epoch 90/100\n",
            "297/297 [==============================] - 3s 11ms/step - loss: 4.5006 - AgeOut_loss: 4.3194 - GenOut_loss: 0.1813 - AgeOut_accuracy: 0.0000e+00 - GenOut_accuracy: 0.0044 - val_loss: 6.8777 - val_AgeOut_loss: 6.6022 - val_GenOut_loss: 0.2755 - val_AgeOut_accuracy: 0.0000e+00 - val_GenOut_accuracy: 8.4353e-04\n",
            "\n",
            "Epoch 00090: val_loss did not improve from 6.38992\n",
            "Epoch 91/100\n",
            "297/297 [==============================] - 3s 10ms/step - loss: 4.6180 - AgeOut_loss: 4.4407 - GenOut_loss: 0.1773 - AgeOut_accuracy: 0.0000e+00 - GenOut_accuracy: 0.0037 - val_loss: 6.6037 - val_AgeOut_loss: 6.3370 - val_GenOut_loss: 0.2667 - val_AgeOut_accuracy: 0.0000e+00 - val_GenOut_accuracy: 6.3264e-04\n",
            "\n",
            "Epoch 00091: val_loss did not improve from 6.38992\n",
            "Epoch 92/100\n",
            "297/297 [==============================] - 3s 11ms/step - loss: 4.6022 - AgeOut_loss: 4.4276 - GenOut_loss: 0.1746 - AgeOut_accuracy: 0.0000e+00 - GenOut_accuracy: 0.0043 - val_loss: 6.6467 - val_AgeOut_loss: 6.3757 - val_GenOut_loss: 0.2710 - val_AgeOut_accuracy: 0.0000e+00 - val_GenOut_accuracy: 0.0021\n",
            "\n",
            "Epoch 00092: val_loss did not improve from 6.38992\n",
            "Epoch 93/100\n",
            "297/297 [==============================] - 3s 11ms/step - loss: 4.5257 - AgeOut_loss: 4.3482 - GenOut_loss: 0.1775 - AgeOut_accuracy: 0.0000e+00 - GenOut_accuracy: 0.0051 - val_loss: 6.5324 - val_AgeOut_loss: 6.2628 - val_GenOut_loss: 0.2697 - val_AgeOut_accuracy: 0.0000e+00 - val_GenOut_accuracy: 0.0019\n",
            "\n",
            "Epoch 00093: val_loss did not improve from 6.38992\n",
            "Epoch 94/100\n",
            "297/297 [==============================] - 3s 11ms/step - loss: 4.4902 - AgeOut_loss: 4.3214 - GenOut_loss: 0.1688 - AgeOut_accuracy: 0.0000e+00 - GenOut_accuracy: 0.0064 - val_loss: 6.6300 - val_AgeOut_loss: 6.3625 - val_GenOut_loss: 0.2675 - val_AgeOut_accuracy: 0.0000e+00 - val_GenOut_accuracy: 0.0021\n",
            "\n",
            "Epoch 00094: val_loss did not improve from 6.38992\n",
            "Epoch 95/100\n",
            "297/297 [==============================] - 3s 11ms/step - loss: 4.5330 - AgeOut_loss: 4.3663 - GenOut_loss: 0.1667 - AgeOut_accuracy: 0.0000e+00 - GenOut_accuracy: 0.0073 - val_loss: 6.6418 - val_AgeOut_loss: 6.3755 - val_GenOut_loss: 0.2663 - val_AgeOut_accuracy: 0.0000e+00 - val_GenOut_accuracy: 0.0015\n",
            "\n",
            "Epoch 00095: val_loss did not improve from 6.38992\n",
            "Epoch 96/100\n",
            "297/297 [==============================] - 3s 11ms/step - loss: 4.4659 - AgeOut_loss: 4.2936 - GenOut_loss: 0.1722 - AgeOut_accuracy: 0.0000e+00 - GenOut_accuracy: 0.0042 - val_loss: 6.5189 - val_AgeOut_loss: 6.2554 - val_GenOut_loss: 0.2635 - val_AgeOut_accuracy: 0.0000e+00 - val_GenOut_accuracy: 4.2176e-04\n",
            "\n",
            "Epoch 00096: val_loss did not improve from 6.38992\n",
            "Epoch 97/100\n",
            "297/297 [==============================] - 3s 11ms/step - loss: 4.5936 - AgeOut_loss: 4.4196 - GenOut_loss: 0.1740 - AgeOut_accuracy: 0.0000e+00 - GenOut_accuracy: 0.0053 - val_loss: 6.5024 - val_AgeOut_loss: 6.2258 - val_GenOut_loss: 0.2767 - val_AgeOut_accuracy: 0.0000e+00 - val_GenOut_accuracy: 0.0019\n",
            "\n",
            "Epoch 00097: val_loss did not improve from 6.38992\n",
            "Epoch 98/100\n",
            "297/297 [==============================] - 3s 11ms/step - loss: 4.4849 - AgeOut_loss: 4.3157 - GenOut_loss: 0.1692 - AgeOut_accuracy: 0.0000e+00 - GenOut_accuracy: 0.0050 - val_loss: 6.4594 - val_AgeOut_loss: 6.1804 - val_GenOut_loss: 0.2789 - val_AgeOut_accuracy: 0.0000e+00 - val_GenOut_accuracy: 0.0023\n",
            "\n",
            "Epoch 00098: val_loss did not improve from 6.38992\n",
            "Epoch 99/100\n",
            "297/297 [==============================] - 3s 11ms/step - loss: 4.4677 - AgeOut_loss: 4.3025 - GenOut_loss: 0.1652 - AgeOut_accuracy: 0.0000e+00 - GenOut_accuracy: 0.0062 - val_loss: 6.3993 - val_AgeOut_loss: 6.1253 - val_GenOut_loss: 0.2741 - val_AgeOut_accuracy: 0.0000e+00 - val_GenOut_accuracy: 0.0034\n",
            "\n",
            "Epoch 00099: val_loss did not improve from 6.38992\n",
            "Epoch 100/100\n",
            "297/297 [==============================] - 3s 11ms/step - loss: 4.4182 - AgeOut_loss: 4.2540 - GenOut_loss: 0.1642 - AgeOut_accuracy: 0.0000e+00 - GenOut_accuracy: 0.0076 - val_loss: 6.9451 - val_AgeOut_loss: 6.6656 - val_GenOut_loss: 0.2795 - val_AgeOut_accuracy: 0.0000e+00 - val_GenOut_accuracy: 0.0023\n",
            "\n",
            "Epoch 00100: val_loss did not improve from 6.38992\n"
          ],
          "name": "stdout"
        }
      ]
    },
    {
      "cell_type": "markdown",
      "metadata": {
        "id": "BTcRWBoPu3H6"
      },
      "source": [
        "### Evaluating model"
      ]
    },
    {
      "cell_type": "code",
      "metadata": {
        "colab": {
          "base_uri": "https://localhost:8080/"
        },
        "id": "gFB5heTrET8n",
        "outputId": "d02d79a7-66e8-4b32-eca0-76b0f1fe2551"
      },
      "source": [
        "model.evaluate(xTest, yTest)"
      ],
      "execution_count": null,
      "outputs": [
        {
          "output_type": "stream",
          "text": [
            "149/149 [==============================] - 1s 3ms/step - loss: 6.9451 - AgeOut_loss: 6.6656 - GenOut_loss: 0.2795 - AgeOut_accuracy: 0.0000e+00 - GenOut_accuracy: 0.0023\n"
          ],
          "name": "stdout"
        },
        {
          "output_type": "execute_result",
          "data": {
            "text/plain": [
              "[6.945124626159668,\n",
              " 6.6656365394592285,\n",
              " 0.2794894278049469,\n",
              " 0.0,\n",
              " 0.002319696359336376]"
            ]
          },
          "metadata": {
            "tags": []
          },
          "execution_count": 21
        }
      ]
    },
    {
      "cell_type": "markdown",
      "metadata": {
        "id": "bxW3qJN_u6mp"
      },
      "source": [
        "## Predicting test images"
      ]
    },
    {
      "cell_type": "code",
      "metadata": {
        "id": "kYMZ8wRivUyo"
      },
      "source": [
        "model = load_model(\"Detection.h5\")"
      ],
      "execution_count": null,
      "outputs": []
    },
    {
      "cell_type": "code",
      "metadata": {
        "id": "qKjIe7eEHYhf"
      },
      "source": [
        "pred = model.predict(xTest)\n",
        "predFinal = []\n",
        "\n",
        "for i in range(len(pred[0])):\n",
        "    predFinal.append(int(np.round(pred[0][i])))"
      ],
      "execution_count": null,
      "outputs": []
    },
    {
      "cell_type": "code",
      "metadata": {
        "id": "Q-dDJ2tTJGpj"
      },
      "source": [
        "with open('imagesBGR.npy', 'rb') as f:\n",
        "    origImages = np.load(f, allow_pickle=True)"
      ],
      "execution_count": null,
      "outputs": []
    },
    {
      "cell_type": "code",
      "metadata": {
        "id": "S-Wax6E3Hx3v"
      },
      "source": [
        "def predictImage(index):\n",
        "    cv2_imshow(origImages[index])\n",
        "    predIm = model.predict(np.array([images[index]]))\n",
        "    \n",
        "    g = \"Male\" if int(np.round(predIm[1][0])) == 0 else \"Female\"\n",
        "    print(f\"Predicted Age: {int(np.round(predIm[0][0]))} Gender: {g}\")\n",
        "    g = \"Male\" if gender[index] == 0 else \"Female\"\n",
        "    print(f\"Actual Age: {age[index]} Gender: {g}\")"
      ],
      "execution_count": null,
      "outputs": []
    },
    {
      "cell_type": "code",
      "metadata": {
        "colab": {
          "base_uri": "https://localhost:8080/",
          "height": 98
        },
        "id": "VumpApkzIrE9",
        "outputId": "e260a383-5ab5-4049-99f1-8d080cfa81fe"
      },
      "source": [
        "predictImage(randint(0, len(dataFiles)))"
      ],
      "execution_count": null,
      "outputs": [
        {
          "output_type": "display_data",
          "data": {
            "image/png": "[encoded data removed]",
            "text/plain": [
              "<PIL.Image.Image image mode=RGB size=48x48 at 0x7F8D32157D90>"
            ]
          },
          "metadata": {
            "tags": []
          }
        },
        {
          "output_type": "stream",
          "text": [
            "Predicted Age: 73 Gender: Female\n",
            "Actual Age: 78.0 Gender: Female\n"
          ],
          "name": "stdout"
        }
      ]
    }
  ]
}